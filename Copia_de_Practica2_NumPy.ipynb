{
  "nbformat": 4,
  "nbformat_minor": 0,
  "metadata": {
    "colab": {
      "name": "Copia de Practica2_NumPy.ipynb",
      "provenance": [],
      "collapsed_sections": [],
      "include_colab_link": true
    },
    "kernelspec": {
      "display_name": "Python 3",
      "language": "python",
      "name": "python3"
    },
    "language_info": {
      "codemirror_mode": {
        "name": "ipython",
        "version": 3
      },
      "file_extension": ".py",
      "mimetype": "text/x-python",
      "name": "python",
      "nbconvert_exporter": "python",
      "pygments_lexer": "ipython3",
      "version": "3.9.0+"
    }
  },
  "cells": [
    {
      "cell_type": "markdown",
      "metadata": {
        "id": "view-in-github",
        "colab_type": "text"
      },
      "source": [
        "<a href=\"https://colab.research.google.com/github/jhermosillo/DIPLOMADO_CDP/blob/main/Copia_de_Practica2_NumPy.ipynb\" target=\"_parent\"><img src=\"https://colab.research.google.com/assets/colab-badge.svg\" alt=\"Open In Colab\"/></a>"
      ]
    },
    {
      "cell_type": "markdown",
      "metadata": {
        "id": "gwuO_2qjhbcS"
      },
      "source": [
        "# Practica 2 - MNist con NumPy"
      ]
    },
    {
      "cell_type": "markdown",
      "metadata": {
        "id": "QToFwRDAOQll"
      },
      "source": [
        "## Usando Numpy con MNist\n",
        "\n",
        "MNist es un popular conjunto de datos que contiene imágenes de dígitos del 0-9 escritos a mano. Las imágenes en el conjunto están compuestas por 28x28 pixeles, cada pixel representa un tono en una escala de grises siendo 0 el valor más luminoso y 255 el valor más oscuro.\n",
        "\n",
        "Unos ejemplos de las imágenes en MNist:\n",
        "\n",
        "![alt text](https://upload.wikimedia.org/wikipedia/commons/2/27/MnistExamples.png)"
      ]
    },
    {
      "cell_type": "markdown",
      "metadata": {
        "id": "IKNPtF2Z_BgB"
      },
      "source": [
        "Ejecuta la siguiente celda para importar las librerías utilizadas durante la notebook."
      ]
    },
    {
      "cell_type": "code",
      "metadata": {
        "id": "M_YPfZtiMBZH"
      },
      "source": [
        "import numpy as np\n",
        "from matplotlib import pyplot as plt"
      ],
      "execution_count": 1,
      "outputs": []
    },
    {
      "cell_type": "markdown",
      "metadata": {
        "id": "AHYr9Bml-ovn"
      },
      "source": [
        "Una función auxiliar ```display_example``` para visualizar ejemplos en el conjunto de datos MNist.\n",
        "\n",
        "*Nota: No olvides ejecutar la celda*"
      ]
    },
    {
      "cell_type": "code",
      "metadata": {
        "id": "9SYL3xduRMnA"
      },
      "source": [
        "def display_example(x, example_width=None):\n",
        "    \"\"\"Muestra un ejemplo en forma 1D como una imagen\"\"\"\n",
        "    # Compute rows, cols\n",
        "    if x.ndim == 1:\n",
        "        n = x.size\n",
        "        m = 1\n",
        "        x = x[None]  # Promote to a 2 dimensional array\n",
        "    else:\n",
        "        raise IndexError('Input x should be 1 dimensional.')\n",
        "\n",
        "    example_width = example_width or int(np.round(np.sqrt(n)))\n",
        "    example_height = n // example_width\n",
        "\n",
        "    plt.imshow(x[0].reshape(example_height, example_width),\n",
        "                        cmap='Greys', extent=[0, 1, 0, 1])\n",
        "    plt.show()"
      ],
      "execution_count": 2,
      "outputs": []
    },
    {
      "cell_type": "markdown",
      "metadata": {
        "id": "GXfxMAENRUnG"
      },
      "source": [
        "## Cargando los datos usando Numpy\n",
        "\n",
        "Usarémos la función ```loadtxt``` para cargar una versión de MNist que está en nuestra máquina asignada por colab."
      ]
    },
    {
      "cell_type": "code",
      "metadata": {
        "id": "Vp4FZPSsL9Uo",
        "colab": {
          "base_uri": "https://localhost:8080/"
        },
        "outputId": "6f17f5aa-0744-4203-d0a7-a8f9680af700"
      },
      "source": [
        "MNist = np.loadtxt(\"sample_data/mnist_train_small.csv\", delimiter=',')\n",
        "MNist"
      ],
      "execution_count": 3,
      "outputs": [
        {
          "output_type": "execute_result",
          "data": {
            "text/plain": [
              "array([[6., 0., 0., ..., 0., 0., 0.],\n",
              "       [5., 0., 0., ..., 0., 0., 0.],\n",
              "       [7., 0., 0., ..., 0., 0., 0.],\n",
              "       ...,\n",
              "       [2., 0., 0., ..., 0., 0., 0.],\n",
              "       [9., 0., 0., ..., 0., 0., 0.],\n",
              "       [5., 0., 0., ..., 0., 0., 0.]])"
            ]
          },
          "metadata": {
            "tags": []
          },
          "execution_count": 3
        }
      ]
    },
    {
      "cell_type": "code",
      "metadata": {
        "colab": {
          "base_uri": "https://localhost:8080/"
        },
        "id": "ESb3lb7GyZo9",
        "outputId": "ec7cd9c1-826d-4a3d-a52f-ff0ca7976393"
      },
      "source": [
        "print(MNist[0,30:150])"
      ],
      "execution_count": 5,
      "outputs": [
        {
          "output_type": "stream",
          "text": [
            "[ 0.  0.  0.  0.  0.  0.  0.  0.  0.  0.  0.  0.  0.  0.  0.  0.  0.  0.\n",
            "  0.  0.  0.  0.  0.  0.  0.  0.  0.  0.  0.  0.  0.  0.  0.  0.  0.  0.\n",
            "  0.  0.  0.  0.  0.  0.  0.  0.  0.  0.  0.  0.  0.  0.  0.  0.  0.  0.\n",
            "  0.  0.  0.  0.  0.  0.  0.  0.  0.  0.  0.  0.  0.  0.  0.  0.  0.  0.\n",
            "  0.  0.  0.  0.  0.  0.  0.  0.  0.  0.  0.  0.  0.  0.  0.  0.  0.  0.\n",
            "  0.  0.  0. 24. 67. 67. 18.  0.  0.  0.  0.  0.  0.  0.  0.  0.  0.  0.\n",
            "  0.  0.  0.  0.  0.  0.  0.  0.  0.  0.  0.  0.]\n"
          ],
          "name": "stdout"
        }
      ]
    },
    {
      "cell_type": "markdown",
      "metadata": {
        "id": "_6oj2tJs8a2c"
      },
      "source": [
        "El conjunto de datos MNist en Colab está formado por imágenes de ejemplo. Cada ejemplo en el conjunto es una fila en el arreglo de NumPy.\n",
        "\n",
        "Cada ejemplo (fila) es un arreglo con $785$ elementos, el primer elemento es la etiqueta del dígito (un entero de $0$ a $9$). El resto de los elementos ($784$) son los pixeles de la imágen ($28\\times28 = 784$)."
      ]
    },
    {
      "cell_type": "markdown",
      "metadata": {
        "id": "pjTayKkEWn2d"
      },
      "source": [
        "## ¿Cuántos ejemplos (filas) tenemos en el conjunto de datos?\n",
        "\n",
        "Utiliza NumPy para calcular el número de filas en el set de datos, rellena el código para guardar el valor en la variable ```m```."
      ]
    },
    {
      "cell_type": "code",
      "metadata": {
        "id": "fdgCOUGsW38Z",
        "colab": {
          "base_uri": "https://localhost:8080/"
        },
        "outputId": "c6d2b581-ea9c-4051-927b-d1d324ac9e16"
      },
      "source": [
        "m = MNist.shape[0]\n",
        "print(\"El set de datos contiene \", m, \" ejemplos.\")"
      ],
      "execution_count": 6,
      "outputs": [
        {
          "output_type": "stream",
          "text": [
            "El set de datos contiene  20000  ejemplos.\n"
          ],
          "name": "stdout"
        }
      ]
    },
    {
      "cell_type": "markdown",
      "metadata": {
        "id": "2dPBaPSfUXbu"
      },
      "source": [
        "## Separando los datos.\n",
        "\n",
        "En la siguiente celda, deberás completar el código para separar el conjunto de datos en dos, un conjunto ```X``` que contendrá únicamente los pixeles de las imágenes y un conjunto ```y``` que contendrá las etiquetas asociadas al número que está en la imágen.\n",
        "\n",
        "Utiliza slicing con NumPy para seleccionar los elementos adecuados."
      ]
    },
    {
      "cell_type": "code",
      "metadata": {
        "id": "B-q6bwbmUtpA"
      },
      "source": [
        "X = MNist[:,1:]\n",
        "y = MNist[:,0]"
      ],
      "execution_count": 7,
      "outputs": []
    },
    {
      "cell_type": "markdown",
      "metadata": {
        "id": "44ZF3RSG_sar"
      },
      "source": [
        "Comprueba ejecutando la siguiente celda:"
      ]
    },
    {
      "cell_type": "code",
      "metadata": {
        "id": "AbPJnku-_akV",
        "colab": {
          "base_uri": "https://localhost:8080/"
        },
        "outputId": "ccc3624d-012e-4e05-b455-33b26f4c1447"
      },
      "source": [
        "assert y.shape == (20000,) and X.shape == (20000, 784), \"Error en las dimensiones de X o y\"\n",
        "print(\"X.shape:\", X.shape)\n",
        "print(\"y.shape:\", y.shape)"
      ],
      "execution_count": 8,
      "outputs": [
        {
          "output_type": "stream",
          "text": [
            "X.shape: (20000, 784)\n",
            "y.shape: (20000,)\n"
          ],
          "name": "stdout"
        }
      ]
    },
    {
      "cell_type": "code",
      "metadata": {
        "colab": {
          "base_uri": "https://localhost:8080/"
        },
        "id": "9w_x80551G6H",
        "outputId": "93947718-b196-4d75-e091-1b0c3ccb11ac"
      },
      "source": [
        "print(y[:10])"
      ],
      "execution_count": 9,
      "outputs": [
        {
          "output_type": "stream",
          "text": [
            "[6. 5. 7. 9. 5. 2. 0. 6. 5. 5.]\n"
          ],
          "name": "stdout"
        }
      ]
    },
    {
      "cell_type": "markdown",
      "metadata": {
        "id": "AjMIaWVIUDLq"
      },
      "source": [
        "## Visualizando las imágenes en el set de datos\n",
        "\n",
        "Usemos la función auxiliar display_example para visualizar los ejemplos en el set de datos. Intentar cambiar el valor de ```i``` para mostrar una ejemplo distinto."
      ]
    },
    {
      "cell_type": "code",
      "metadata": {
        "id": "J1M_emH_RTaX",
        "colab": {
          "base_uri": "https://localhost:8080/",
          "height": 288
        },
        "outputId": "1eb95b35-9ac2-493d-da87-3f1572e47e89"
      },
      "source": [
        "#puedes cambiar el valor de i\n",
        "i = 27\n",
        "\n",
        "example = X[i]\n",
        "example_label = y[i]\n",
        "display_example(example)\n",
        "print(\"Imágen con etiqueta: \", example_label)"
      ],
      "execution_count": 23,
      "outputs": [
        {
          "output_type": "display_data",
          "data": {
            "image/png": "[encoded data removed]",
            "text/plain": [
              "<Figure size 432x288 with 1 Axes>"
            ]
          },
          "metadata": {
            "tags": [],
            "needs_background": "light"
          }
        },
        {
          "output_type": "stream",
          "text": [
            "Imágen con etiqueta:  1.0\n"
          ],
          "name": "stdout"
        }
      ]
    },
    {
      "cell_type": "markdown",
      "metadata": {
        "id": "KncyFgv4apeS"
      },
      "source": [
        "## Contando el número de ejemplos para cada \"clase\"\n",
        "\n",
        "Rellena la función ```count_class_examples()``` para imprimir el número de ejemplos de cada etiqueta en el set de datos. Esto es, el número de ceros, de unos, dos, ..., nueves.\n",
        "\n",
        "Para MNist las etiquetas $y \\in \\{0, 1, 2, \\dots, 9\\}$"
      ]
    },
    {
      "cell_type": "code",
      "metadata": {
        "id": "5DXr5BVpMvy7"
      },
      "source": [
        "def count_class_examples(y):\n",
        "  \"\"\"Imprime el numero de ejemplos para cada clase en y.\n",
        "  \n",
        "  Argumentos\n",
        "  y - arreglos de numpy que contiene etiquetas\n",
        "  \"\"\"\n",
        "  print(np.unique(y))\n",
        "  for i in range(10): #[0,1,2,3,4,5,6,7,8,9]\n",
        "    count = np.size(np.where(y==i)) \n",
        "    #print(y[y==i])\n",
        "    countA = len(y[y==i]) #indexacion booleana\n",
        "    print(\"Numero de \", i, count, countA)"
      ],
      "execution_count": 33,
      "outputs": []
    },
    {
      "cell_type": "code",
      "metadata": {
        "id": "cetXv0aueKOe",
        "colab": {
          "base_uri": "https://localhost:8080/"
        },
        "outputId": "2de3e55c-1e38-4815-ecfc-4bf584dfe43c"
      },
      "source": [
        "count_class_examples(y)"
      ],
      "execution_count": 34,
      "outputs": [
        {
          "output_type": "stream",
          "text": [
            "[0. 1. 2. 3. 4. 5. 6. 7. 8. 9.]\n",
            "Numero de  0 1962 1962\n",
            "Numero de  1 2243 2243\n",
            "Numero de  2 1989 1989\n",
            "Numero de  3 2021 2021\n",
            "Numero de  4 1924 1924\n",
            "Numero de  5 1761 1761\n",
            "Numero de  6 2039 2039\n",
            "Numero de  7 2126 2126\n",
            "Numero de  8 1912 1912\n",
            "Numero de  9 2023 2023\n"
          ],
          "name": "stdout"
        }
      ]
    },
    {
      "cell_type": "markdown",
      "metadata": {
        "id": "F_bF-YXHfY8p"
      },
      "source": [
        "## Calcula el arreglo representativo para cada clase\n",
        "\n",
        "Utiliza Numpy para encontrar el arreglo representativo promediando los arreglos para cada clase. Rellena la función ``` class_means``` para que devuelva un arreglo de NumPy que contenga en cada fila el arreglo promedio de los respectivos ejemplos (del dígito 0 al 9)."
      ]
    },
    {
      "cell_type": "code",
      "metadata": {
        "id": "IMTD35bOFGg_"
      },
      "source": [
        "def class_means(X, y):\n",
        "  \"\"\"\n",
        "  Calcula el arreglo promedio (representativo) de cada clase\n",
        "  \"\"\"\n",
        "  # Numero de ejemplos (filas)\n",
        "  m = X.shape[0]\n",
        "  # Numero de features (columnas)\n",
        "  n = X.shape[1]\n",
        "  # Clases distintas en el set\n",
        "  ulabels = np.unique(y)\n",
        "  # Numero de clases\n",
        "  classes = ulabels.size\n",
        "\n",
        "  # Rellena means con el arreglo promedio de cada clase\n",
        "  means = np.empty((classes, n))\n",
        "\n",
        "  for i in range(classes):\n",
        "    means[i,:] = # <completa>\n",
        "\n",
        "  return means"
      ],
      "execution_count": null,
      "outputs": []
    },
    {
      "cell_type": "code",
      "metadata": {
        "id": "Nupjyy3kBatD"
      },
      "source": [
        "class_representatives = class_means(X, y)\n",
        "\n",
        "#shape del arreglo que contiene los representativos\n",
        "class_representatives.shape"
      ],
      "execution_count": null,
      "outputs": []
    },
    {
      "cell_type": "code",
      "metadata": {
        "id": "bK4wRko_obDb"
      },
      "source": [
        "assert np.array_equal(class_means(np.array([[4, 6], [2, 4], [10, 4], [2, 6]]), np.array([1, 2, 1, 2])), np.array([[7, 5], [2, 5]])), \"Error\"\n",
        "assert class_representatives.shape == (10, 784), \"Error en las dimensiones de class_representatives\"\n",
        "print(\"Funcion clas_means es correcta\")"
      ],
      "execution_count": null,
      "outputs": []
    },
    {
      "cell_type": "markdown",
      "metadata": {
        "id": "qQjZYBzZFckR"
      },
      "source": [
        "Utiliza la función ```display_example``` para mostrar el ejemplo promedio de la clase (para cada clase)."
      ]
    },
    {
      "cell_type": "code",
      "metadata": {
        "id": "mcnZre4CBhIl"
      },
      "source": [
        "for i in range(10):\n",
        "  display_example(class_representatives[i])"
      ],
      "execution_count": null,
      "outputs": []
    },
    {
      "cell_type": "markdown",
      "metadata": {
        "id": "jaemlIYPEbIt"
      },
      "source": [
        "## Clasificador de dígitos usando distancias\n",
        "\n",
        "En esta sección, generaremos un modelo para identificar dígitos mediante el uso de distancias euclidianas. Calcularemos la distancia entre cada ejemplo en el conjunto y los dígitos representativos de cada clase (el valor promedio de cada clase). Le asignaremos a cada ejemplo la etiqueta del dígito representativo con menor distancia."
      ]
    },
    {
      "cell_type": "markdown",
      "metadata": {
        "id": "hCh7PfLgFDWx"
      },
      "source": [
        "### Distancia Euclidiana\n",
        "\n",
        "En la siguiente celda, rellena la función ```euclidean_distance``` para calcular la distancia euclidiana entre los puntos P y Q.\n",
        "\n",
        "La distancia euclidiana entre dos puntos P y Q en un espacio n-dimesional es:\n",
        "\n",
        "$$d_e(P, Q) = \\sqrt{(p_1 - q_1)^2+(p_2-q_2)^2 + \\dots+(p_n-q_n)^2} = \\sqrt{\\sum_{i=1}^{n}(p_i-q_i)^2} $$"
      ]
    },
    {
      "cell_type": "code",
      "metadata": {
        "id": "thU_Ff2AEWac"
      },
      "source": [
        "def euclidean_distance(P, Q):\n",
        "  \"\"\"\n",
        "  Calcula la distancia euclidiana entre los elementos de P y Q\n",
        "  \"\"\"\n",
        "  e_distance = # <completa>\n",
        "  return e_distance"
      ],
      "execution_count": null,
      "outputs": []
    },
    {
      "cell_type": "code",
      "metadata": {
        "id": "KQC1XSUEefxr"
      },
      "source": [
        "a = np.array([[1, 2, 3]])\n",
        "b = np.array([[3, 3, 5]])\n",
        "euclidean_distance(a, b)"
      ],
      "execution_count": null,
      "outputs": []
    },
    {
      "cell_type": "code",
      "metadata": {
        "id": "oqsvgC5HcprY"
      },
      "source": [
        "assert euclidean_distance(np.array([[1, 2, 3]]), np.array([[3, 3, 5]]))[0] == 3.0, \"Error en euclidean_distance\""
      ],
      "execution_count": null,
      "outputs": []
    },
    {
      "cell_type": "markdown",
      "metadata": {
        "id": "g_Z1b1-gBWiY"
      },
      "source": [
        "## Obten el representante más cercano para cada ejemplo\n",
        "\n",
        "Rellena la función ```closest_point``` para asignar a cada ejemplo la etiqueta del dígito más cercano según su distancia al arreglo representativo.\n",
        "\n",
        "*¿Puedes hacerlo con 2, 1 o ningún ciclo for?*"
      ]
    },
    {
      "cell_type": "code",
      "metadata": {
        "id": "xsxSqA2UjTBQ"
      },
      "source": [
        "def closest_point(X, representatives):\n",
        "  \"\"\"\n",
        "  Devuelve un arreglo con la etiqueta del elemento mas cercano\n",
        "  para cada ejemplo en X\n",
        "\n",
        "  X -  el arreglo con los ejemplos\n",
        "  representatives - el arreglo con los elementos representativos de cada clase\n",
        "  \"\"\"\n",
        "  # Numero de ejemplos (filas)\n",
        "  m = X.shape[0]\n",
        "  # Numero de features (columnas)\n",
        "  n = X.shape[1]\n",
        "  # Numero de clases\n",
        "  classes = representatives.shape[0]\n",
        "\n",
        "  # Distancias minimas\n",
        "  min_distances = np.full(m, np.inf)\n",
        "  # El indice de la mejor distancia\n",
        "  best = np.zeros((X.shape[0]), dtype=np.int8)\n",
        "\n",
        "  # <rellena>\n",
        "  \n",
        "  return best"
      ],
      "execution_count": null,
      "outputs": []
    },
    {
      "cell_type": "code",
      "metadata": {
        "id": "EioV2HZmH1Z-"
      },
      "source": [
        "y_pred = closest_point(X, class_representatives)"
      ],
      "execution_count": null,
      "outputs": []
    },
    {
      "cell_type": "code",
      "metadata": {
        "id": "LAICdMHqH8tj"
      },
      "source": [
        "assert y_pred.shape == (20000,) or y_pred.shape == (20000), \"Error en las dimensiones de y_pred\""
      ],
      "execution_count": null,
      "outputs": []
    },
    {
      "cell_type": "markdown",
      "metadata": {
        "id": "zdSzZo8WHUxd"
      },
      "source": [
        "## Visualiza las predicciones"
      ]
    },
    {
      "cell_type": "code",
      "metadata": {
        "id": "0SsGlu2uHzFF"
      },
      "source": [
        "#intenta cambiar el valor de i\n",
        "i = 1\n",
        "\n",
        "example = X[i]\n",
        "pred_label = y_pred[i]\n",
        "true_label = y[i]\n",
        "display_example(example)\n",
        "print(\"Imágen con etiqueta: \", true_label, \" modelo dice:\", pred_label)"
      ],
      "execution_count": null,
      "outputs": []
    },
    {
      "cell_type": "markdown",
      "metadata": {
        "id": "wx9HvySkHQWW"
      },
      "source": [
        "## Evaluando el clasificador\n",
        "\n",
        "Una vez que tienes un modelo, debes evaluarlo para saber que tan bien (o mal) está haciendo su trabajo. Para el modelo clasificador de dígitos, usaremos una métrica típica de evaluación."
      ]
    },
    {
      "cell_type": "markdown",
      "metadata": {
        "id": "qCLIrbVuItef"
      },
      "source": [
        "## Exactitúd (Accuracy)\n",
        "\n",
        "La exactitúd o accuracy mide el rendimiento general del modelo.\n",
        "\n",
        "Utiliza la siguiente fórmula para completar la función ```accuracy``` para medir el rendimiento del modelo de clasificación de dígitos:\n",
        "\n",
        "$$\\texttt{accuracy}(y, \\hat{y}) = \\frac{1}{m} \\sum_{i=0}^{m-1} 1(\\hat{y}_i = y_i)$$\n",
        "\n",
        "$$ 1(\\hat{y}_i = y_i) = 1 \\quad \\text{cuando} \\quad \\hat{y}_i = y_i$$\n",
        "\n",
        "$$ 1(\\hat{y}_i = y_i) = 0 \\quad \\text{cuando} \\quad \\hat{y}_i \\neq y_i$$\n",
        "\n",
        "$$m \\quad \\text{es el número de ejemplos}$$"
      ]
    },
    {
      "cell_type": "code",
      "metadata": {
        "id": "_MeQoOaYItol"
      },
      "source": [
        "def accuracy(y, y_pred):\n",
        "  \"\"\"\n",
        "  Devuelve la exactitud dados dos vectores \"y\" con la verdad\n",
        "  y \"y_pred\" con las predicciones\n",
        "  \"\"\"\n",
        "  acc = # <completa>\n",
        "  return acc"
      ],
      "execution_count": null,
      "outputs": []
    },
    {
      "cell_type": "code",
      "metadata": {
        "id": "f-aY9tZ0bh1H"
      },
      "source": [
        "accuracy(y, y_pred)"
      ],
      "execution_count": null,
      "outputs": []
    },
    {
      "cell_type": "markdown",
      "metadata": {
        "id": "ecFa1uuuJ_G-"
      },
      "source": [
        "¿Consideras que el modelo es bueno para predecir dígitos escritos a mano?, ¿crees que hay margen de mejora?"
      ]
    }
  ]
}