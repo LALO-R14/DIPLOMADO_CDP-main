{
  "nbformat": 4,
  "nbformat_minor": 0,
  "metadata": {
    "colab": {
      "name": "Copia de Practica3_Pandas.ipynb",
      "provenance": [],
      "collapsed_sections": [],
      "include_colab_link": true
    },
    "kernelspec": {
      "display_name": "Python 3",
      "language": "python",
      "name": "python3"
    },
    "language_info": {
      "codemirror_mode": {
        "name": "ipython",
        "version": 3
      },
      "file_extension": ".py",
      "mimetype": "text/x-python",
      "name": "python",
      "nbconvert_exporter": "python",
      "pygments_lexer": "ipython3",
      "version": "3.9.0+"
    }
  },
  "cells": [
    {
      "cell_type": "markdown",
      "metadata": {
        "id": "view-in-github",
        "colab_type": "text"
      },
      "source": [
        "<a href=\"https://colab.research.google.com/github/jhermosillo/DIPLOMADO_CDP/blob/main/Copia_de_Practica3_Pandas.ipynb\" target=\"_parent\"><img src=\"https://colab.research.google.com/assets/colab-badge.svg\" alt=\"Open In Colab\"/></a>"
      ]
    },
    {
      "cell_type": "markdown",
      "metadata": {
        "id": "U27yy_exrI8z"
      },
      "source": [
        "# Analizando las estadísticas de jugadores de futbol con Pandas\n",
        "\n",
        "![FIFA](https://upload.wikimedia.org/wikipedia/commons/thumb/a/aa/FIFA_logo_without_slogan.svg/1200px-FIFA_logo_without_slogan.svg.png)\n",
        "\n",
        "En esta notebook, utilizarás Pandas para analizar datos de jugadores de futbol (soccer). Los datos se encuentran en forma tabular e incluyen información relevante de jugadores de futbol de todo el mundo.\n",
        "\n",
        "---\n",
        "\n",
        "\n",
        "Cada fila en el conjunto de datos contiene información sobre el jugador:\n",
        "* Información personal: Nombre, nacionalidad, , edad, altura, peso y pierna preferida al jugar.\n",
        "* Información como jugador: Nombre del equipo en el que juega (Club), número de playera, posición en el campo (abreviada), valor comercial y salario.\n",
        "* Información sobre sus habilidades como jugador (0-100): Overall, Potential, Shooting, Defense, Passing, Physical, Control, Mental y GoalKeeping.\n",
        "\n",
        "\n",
        "Durante la notebook llevarás a cabo tareas de tratamiento y análisis exploratorio de datos comunmente realizadas. Buscarás información que podría resultar útil para las organizaciones.\n",
        "\n",
        "\n",
        "\n",
        "---\n",
        "\n",
        "\n",
        "\n",
        "Recuerda que puedes acudir a la [documentación de Pandas](https://pandas.pydata.org/pandas-docs/stable/reference/index.html) o a la notebook de Pandas del diplomado en ciencia de datos.\n",
        "\n"
      ]
    },
    {
      "cell_type": "markdown",
      "metadata": {
        "id": "YK63u5jI9TkW"
      },
      "source": [
        "Primero, importa Pandas en tu notebook:"
      ]
    },
    {
      "cell_type": "code",
      "metadata": {
        "id": "3N4heqrqrFiv"
      },
      "source": [
        "# pandas usando el alias pd\n",
        "import pandas as pd"
      ],
      "execution_count": 1,
      "outputs": []
    },
    {
      "cell_type": "markdown",
      "metadata": {
        "id": "iWSmUVFgrJxA"
      },
      "source": [
        "Ejecuta la siguiente celda para cargar el conjunto de datos desde el repositorio en github a la máquina en colab."
      ]
    },
    {
      "cell_type": "code",
      "metadata": {
        "id": "4touD7BqrOmJ",
        "colab": {
          "base_uri": "https://localhost:8080/"
        },
        "outputId": "1231256d-83c4-43f9-a1dd-50d05c5ee5bb"
      },
      "source": [
        "# Fetch the dataset using the raw GitHub URL.\n",
        "!curl --remote-name \\\n",
        "     -H 'Accept: application/vnd.github.v3.raw' \\\n",
        "     --location https://raw.githubusercontent.com/jhermosillo/DIPLOMADO_CDP/main/01%20Programaci%C3%B3n%20en%20Python/data/fifa/players.csv"
      ],
      "execution_count": 2,
      "outputs": [
        {
          "output_type": "stream",
          "text": [
            "  % Total    % Received % Xferd  Average Speed   Time    Time     Time  Current\n",
            "                                 Dload  Upload   Total   Spent    Left  Speed\n",
            "100 1955k  100 1955k    0     0  9053k      0 --:--:-- --:--:-- --:--:-- 9053k\n"
          ],
          "name": "stdout"
        }
      ]
    },
    {
      "cell_type": "markdown",
      "metadata": {
        "id": "p5y0gMcxsRzY"
      },
      "source": [
        "Veamos las primeras líneas del archivo usando un comando de linux en la celda de colab:"
      ]
    },
    {
      "cell_type": "code",
      "metadata": {
        "id": "-9y9q8fxsSCl",
        "colab": {
          "base_uri": "https://localhost:8080/"
        },
        "outputId": "ce654920-85e2-4ed5-d8fa-b701a9fb99d6"
      },
      "source": [
        "!head -n 5 players.csv"
      ],
      "execution_count": 3,
      "outputs": [
        {
          "output_type": "stream",
          "text": [
            "ID,Name,Nationality,Club,Jersey Number,Value,Wage,Age,Height,Weight,Preferred Foot,Position,Overall,Potential,Shooting,Defense,Passing,Physical,Control,Mental,GoalKeeping\n",
            "158023,L. Messi,Argentina,FC Barcelona,10.0,€110.5M,€565K,31,5'7,159lbs,Left,RF,94,94,86,41,87,80,96,95,11\n",
            "20801,Cristiano Ronaldo,Portugal,Juventus,7.0,€77M,€405K,33,6'2,183lbs,Right,ST,94,94,88,41,81,86,84,91,12\n",
            "190871,Neymar Jr,Brazil,Paris Saint-Germain,10.0,€118.5M,€290K,26,5'9,150lbs,Right,LW,92,93,81,42,80,79,92,92,12\n",
            "193080,De Gea,Spain,Manchester United,1.0,€72M,€260K,27,6'4,168lbs,Right,GK,91,93,21,18,39,56,34,75,89\n"
          ],
          "name": "stdout"
        }
      ]
    },
    {
      "cell_type": "markdown",
      "metadata": {
        "id": "2llZPBeYr5EW"
      },
      "source": [
        "## Carga el conjunto de datos FIFA usando pandas"
      ]
    },
    {
      "cell_type": "code",
      "metadata": {
        "id": "qpE38xDqr4xX",
        "colab": {
          "base_uri": "https://localhost:8080/",
          "height": 330
        },
        "outputId": "3ae90281-d100-4418-fe0b-1ba761d09461"
      },
      "source": [
        "# leer el dataframe usando read_csv\n",
        "fifa_df = pd.read_csv(\"players.csv\", sep=',', header=0)\n",
        "# mostrar los primeros elementos con head\n",
        "fifa_df.head()"
      ],
      "execution_count": 4,
      "outputs": [
        {
          "output_type": "execute_result",
          "data": {
            "text/html": [
              "<div>\n",
              "<style scoped>\n",
              "    .dataframe tbody tr th:only-of-type {\n",
              "        vertical-align: middle;\n",
              "    }\n",
              "\n",
              "    .dataframe tbody tr th {\n",
              "        vertical-align: top;\n",
              "    }\n",
              "\n",
              "    .dataframe thead th {\n",
              "        text-align: right;\n",
              "    }\n",
              "</style>\n",
              "<table border=\"1\" class=\"dataframe\">\n",
              "  <thead>\n",
              "    <tr style=\"text-align: right;\">\n",
              "      <th></th>\n",
              "      <th>ID</th>\n",
              "      <th>Name</th>\n",
              "      <th>Nationality</th>\n",
              "      <th>Club</th>\n",
              "      <th>Jersey Number</th>\n",
              "      <th>Value</th>\n",
              "      <th>Wage</th>\n",
              "      <th>Age</th>\n",
              "      <th>Height</th>\n",
              "      <th>Weight</th>\n",
              "      <th>Preferred Foot</th>\n",
              "      <th>Position</th>\n",
              "      <th>Overall</th>\n",
              "      <th>Potential</th>\n",
              "      <th>Shooting</th>\n",
              "      <th>Defense</th>\n",
              "      <th>Passing</th>\n",
              "      <th>Physical</th>\n",
              "      <th>Control</th>\n",
              "      <th>Mental</th>\n",
              "      <th>GoalKeeping</th>\n",
              "    </tr>\n",
              "  </thead>\n",
              "  <tbody>\n",
              "    <tr>\n",
              "      <th>0</th>\n",
              "      <td>158023</td>\n",
              "      <td>L. Messi</td>\n",
              "      <td>Argentina</td>\n",
              "      <td>FC Barcelona</td>\n",
              "      <td>10.0</td>\n",
              "      <td>€110.5M</td>\n",
              "      <td>€565K</td>\n",
              "      <td>31</td>\n",
              "      <td>5'7</td>\n",
              "      <td>159lbs</td>\n",
              "      <td>Left</td>\n",
              "      <td>RF</td>\n",
              "      <td>94</td>\n",
              "      <td>94</td>\n",
              "      <td>86.0</td>\n",
              "      <td>41.0</td>\n",
              "      <td>87.0</td>\n",
              "      <td>80.0</td>\n",
              "      <td>96.0</td>\n",
              "      <td>95.0</td>\n",
              "      <td>11.0</td>\n",
              "    </tr>\n",
              "    <tr>\n",
              "      <th>1</th>\n",
              "      <td>20801</td>\n",
              "      <td>Cristiano Ronaldo</td>\n",
              "      <td>Portugal</td>\n",
              "      <td>Juventus</td>\n",
              "      <td>7.0</td>\n",
              "      <td>€77M</td>\n",
              "      <td>€405K</td>\n",
              "      <td>33</td>\n",
              "      <td>6'2</td>\n",
              "      <td>183lbs</td>\n",
              "      <td>Right</td>\n",
              "      <td>ST</td>\n",
              "      <td>94</td>\n",
              "      <td>94</td>\n",
              "      <td>88.0</td>\n",
              "      <td>41.0</td>\n",
              "      <td>81.0</td>\n",
              "      <td>86.0</td>\n",
              "      <td>84.0</td>\n",
              "      <td>91.0</td>\n",
              "      <td>12.0</td>\n",
              "    </tr>\n",
              "    <tr>\n",
              "      <th>2</th>\n",
              "      <td>190871</td>\n",
              "      <td>Neymar Jr</td>\n",
              "      <td>Brazil</td>\n",
              "      <td>Paris Saint-Germain</td>\n",
              "      <td>10.0</td>\n",
              "      <td>€118.5M</td>\n",
              "      <td>€290K</td>\n",
              "      <td>26</td>\n",
              "      <td>5'9</td>\n",
              "      <td>150lbs</td>\n",
              "      <td>Right</td>\n",
              "      <td>LW</td>\n",
              "      <td>92</td>\n",
              "      <td>93</td>\n",
              "      <td>81.0</td>\n",
              "      <td>42.0</td>\n",
              "      <td>80.0</td>\n",
              "      <td>79.0</td>\n",
              "      <td>92.0</td>\n",
              "      <td>92.0</td>\n",
              "      <td>12.0</td>\n",
              "    </tr>\n",
              "    <tr>\n",
              "      <th>3</th>\n",
              "      <td>193080</td>\n",
              "      <td>De Gea</td>\n",
              "      <td>Spain</td>\n",
              "      <td>Manchester United</td>\n",
              "      <td>1.0</td>\n",
              "      <td>€72M</td>\n",
              "      <td>€260K</td>\n",
              "      <td>27</td>\n",
              "      <td>6'4</td>\n",
              "      <td>168lbs</td>\n",
              "      <td>Right</td>\n",
              "      <td>GK</td>\n",
              "      <td>91</td>\n",
              "      <td>93</td>\n",
              "      <td>21.0</td>\n",
              "      <td>18.0</td>\n",
              "      <td>39.0</td>\n",
              "      <td>56.0</td>\n",
              "      <td>34.0</td>\n",
              "      <td>75.0</td>\n",
              "      <td>89.0</td>\n",
              "    </tr>\n",
              "    <tr>\n",
              "      <th>4</th>\n",
              "      <td>192985</td>\n",
              "      <td>K. De Bruyne</td>\n",
              "      <td>Belgium</td>\n",
              "      <td>Manchester City</td>\n",
              "      <td>7.0</td>\n",
              "      <td>€102M</td>\n",
              "      <td>€355K</td>\n",
              "      <td>27</td>\n",
              "      <td>5'11</td>\n",
              "      <td>154lbs</td>\n",
              "      <td>Right</td>\n",
              "      <td>RCM</td>\n",
              "      <td>91</td>\n",
              "      <td>92</td>\n",
              "      <td>81.0</td>\n",
              "      <td>65.0</td>\n",
              "      <td>92.0</td>\n",
              "      <td>77.0</td>\n",
              "      <td>85.0</td>\n",
              "      <td>91.0</td>\n",
              "      <td>11.0</td>\n",
              "    </tr>\n",
              "  </tbody>\n",
              "</table>\n",
              "</div>"
            ],
            "text/plain": [
              "       ID               Name Nationality  ... Control  Mental GoalKeeping\n",
              "0  158023           L. Messi   Argentina  ...    96.0    95.0        11.0\n",
              "1   20801  Cristiano Ronaldo    Portugal  ...    84.0    91.0        12.0\n",
              "2  190871          Neymar Jr      Brazil  ...    92.0    92.0        12.0\n",
              "3  193080             De Gea       Spain  ...    34.0    75.0        89.0\n",
              "4  192985       K. De Bruyne     Belgium  ...    85.0    91.0        11.0\n",
              "\n",
              "[5 rows x 21 columns]"
            ]
          },
          "metadata": {
            "tags": []
          },
          "execution_count": 4
        }
      ]
    },
    {
      "cell_type": "markdown",
      "metadata": {
        "id": "45oYL86ST8RO"
      },
      "source": [
        "## Características del dataset"
      ]
    },
    {
      "cell_type": "markdown",
      "metadata": {
        "id": "NnVgDmdSdZQk"
      },
      "source": [
        "¿Qué tipos de datos contiene nuestro dataframe?"
      ]
    },
    {
      "cell_type": "code",
      "metadata": {
        "id": "1kzDpxYK0EvY",
        "colab": {
          "base_uri": "https://localhost:8080/"
        },
        "outputId": "9700bb33-6555-4a9e-b9c1-b38d53d20ef4"
      },
      "source": [
        "for name, t in zip(fifa_df.columns, fifa_df.dtypes):\n",
        "  print(name, t)"
      ],
      "execution_count": 5,
      "outputs": [
        {
          "output_type": "stream",
          "text": [
            "ID int64\n",
            "Name object\n",
            "Nationality object\n",
            "Club object\n",
            "Jersey Number float64\n",
            "Value object\n",
            "Wage object\n",
            "Age int64\n",
            "Height object\n",
            "Weight object\n",
            "Preferred Foot object\n",
            "Position object\n",
            "Overall int64\n",
            "Potential int64\n",
            "Shooting float64\n",
            "Defense float64\n",
            "Passing float64\n",
            "Physical float64\n",
            "Control float64\n",
            "Mental float64\n",
            "GoalKeeping float64\n"
          ],
          "name": "stdout"
        }
      ]
    },
    {
      "cell_type": "markdown",
      "metadata": {
        "id": "GWsJyCIMtscZ"
      },
      "source": [
        "¿Qué tamaño tiene nuestro dataset?\n",
        "\n",
        "Utiliza el método ```shape``` para conocer el número de filas y columnas en el dataframe."
      ]
    },
    {
      "cell_type": "code",
      "metadata": {
        "id": "d3qNHHbAtxNp",
        "colab": {
          "base_uri": "https://localhost:8080/"
        },
        "outputId": "f23fb639-1683-4e63-ae9e-ae201e2a4dee"
      },
      "source": [
        "m,n = fifa_df.shape\n",
        "print(\"Filas:\", m)\n",
        "print(\"Columnas:\", n)"
      ],
      "execution_count": 7,
      "outputs": [
        {
          "output_type": "stream",
          "text": [
            "Filas: 18207\n",
            "Columnas: 21\n"
          ],
          "name": "stdout"
        }
      ]
    },
    {
      "cell_type": "code",
      "metadata": {
        "id": "yjcIL89FuA0u"
      },
      "source": [
        "assert m == 18207 and n == 21, \"Error en las dimensiones\""
      ],
      "execution_count": 8,
      "outputs": []
    },
    {
      "cell_type": "markdown",
      "metadata": {
        "id": "xk3ES367UKfQ"
      },
      "source": [
        "### Estadísticas generales del dataset.\n",
        "\n",
        "Usa ```describre()``` para mostrar las estadísticas generales de las columnas numéricas en el dataframe."
      ]
    },
    {
      "cell_type": "code",
      "metadata": {
        "id": "QKmF6WUUUKuM",
        "colab": {
          "base_uri": "https://localhost:8080/",
          "height": 337
        },
        "outputId": "b31da0f5-e11b-4bd8-847c-a9312f06783c"
      },
      "source": [
        "fifa_df.describe()"
      ],
      "execution_count": 9,
      "outputs": [
        {
          "output_type": "execute_result",
          "data": {
            "text/html": [
              "<div>\n",
              "<style scoped>\n",
              "    .dataframe tbody tr th:only-of-type {\n",
              "        vertical-align: middle;\n",
              "    }\n",
              "\n",
              "    .dataframe tbody tr th {\n",
              "        vertical-align: top;\n",
              "    }\n",
              "\n",
              "    .dataframe thead th {\n",
              "        text-align: right;\n",
              "    }\n",
              "</style>\n",
              "<table border=\"1\" class=\"dataframe\">\n",
              "  <thead>\n",
              "    <tr style=\"text-align: right;\">\n",
              "      <th></th>\n",
              "      <th>ID</th>\n",
              "      <th>Jersey Number</th>\n",
              "      <th>Age</th>\n",
              "      <th>Overall</th>\n",
              "      <th>Potential</th>\n",
              "      <th>Shooting</th>\n",
              "      <th>Defense</th>\n",
              "      <th>Passing</th>\n",
              "      <th>Physical</th>\n",
              "      <th>Control</th>\n",
              "      <th>Mental</th>\n",
              "      <th>GoalKeeping</th>\n",
              "    </tr>\n",
              "  </thead>\n",
              "  <tbody>\n",
              "    <tr>\n",
              "      <th>count</th>\n",
              "      <td>18207.000000</td>\n",
              "      <td>18147.000000</td>\n",
              "      <td>18207.000000</td>\n",
              "      <td>18207.000000</td>\n",
              "      <td>18207.000000</td>\n",
              "      <td>18159.000000</td>\n",
              "      <td>18159.000000</td>\n",
              "      <td>18159.000000</td>\n",
              "      <td>18159.000000</td>\n",
              "      <td>18159.000000</td>\n",
              "      <td>18159.000000</td>\n",
              "      <td>18159.000000</td>\n",
              "    </tr>\n",
              "    <tr>\n",
              "      <th>mean</th>\n",
              "      <td>214298.338606</td>\n",
              "      <td>19.546096</td>\n",
              "      <td>25.122206</td>\n",
              "      <td>66.238699</td>\n",
              "      <td>71.307299</td>\n",
              "      <td>47.736274</td>\n",
              "      <td>47.459001</td>\n",
              "      <td>53.710612</td>\n",
              "      <td>64.344512</td>\n",
              "      <td>59.236357</td>\n",
              "      <td>57.958974</td>\n",
              "      <td>16.468087</td>\n",
              "    </tr>\n",
              "    <tr>\n",
              "      <th>std</th>\n",
              "      <td>29965.244204</td>\n",
              "      <td>15.947765</td>\n",
              "      <td>4.669943</td>\n",
              "      <td>6.908930</td>\n",
              "      <td>6.136496</td>\n",
              "      <td>15.621702</td>\n",
              "      <td>17.314439</td>\n",
              "      <td>15.113052</td>\n",
              "      <td>9.839120</td>\n",
              "      <td>15.156389</td>\n",
              "      <td>9.933340</td>\n",
              "      <td>17.002775</td>\n",
              "    </tr>\n",
              "    <tr>\n",
              "      <th>min</th>\n",
              "      <td>16.000000</td>\n",
              "      <td>1.000000</td>\n",
              "      <td>16.000000</td>\n",
              "      <td>46.000000</td>\n",
              "      <td>48.000000</td>\n",
              "      <td>7.000000</td>\n",
              "      <td>7.000000</td>\n",
              "      <td>8.000000</td>\n",
              "      <td>22.000000</td>\n",
              "      <td>12.000000</td>\n",
              "      <td>25.000000</td>\n",
              "      <td>1.000000</td>\n",
              "    </tr>\n",
              "    <tr>\n",
              "      <th>25%</th>\n",
              "      <td>200315.500000</td>\n",
              "      <td>8.000000</td>\n",
              "      <td>21.000000</td>\n",
              "      <td>62.000000</td>\n",
              "      <td>67.000000</td>\n",
              "      <td>39.000000</td>\n",
              "      <td>35.000000</td>\n",
              "      <td>46.000000</td>\n",
              "      <td>60.000000</td>\n",
              "      <td>54.000000</td>\n",
              "      <td>51.000000</td>\n",
              "      <td>10.000000</td>\n",
              "    </tr>\n",
              "    <tr>\n",
              "      <th>50%</th>\n",
              "      <td>221759.000000</td>\n",
              "      <td>17.000000</td>\n",
              "      <td>25.000000</td>\n",
              "      <td>66.000000</td>\n",
              "      <td>71.000000</td>\n",
              "      <td>50.000000</td>\n",
              "      <td>52.000000</td>\n",
              "      <td>57.000000</td>\n",
              "      <td>66.000000</td>\n",
              "      <td>63.000000</td>\n",
              "      <td>58.000000</td>\n",
              "      <td>11.000000</td>\n",
              "    </tr>\n",
              "    <tr>\n",
              "      <th>75%</th>\n",
              "      <td>236529.500000</td>\n",
              "      <td>26.000000</td>\n",
              "      <td>28.000000</td>\n",
              "      <td>71.000000</td>\n",
              "      <td>75.000000</td>\n",
              "      <td>59.000000</td>\n",
              "      <td>61.000000</td>\n",
              "      <td>64.000000</td>\n",
              "      <td>71.000000</td>\n",
              "      <td>69.000000</td>\n",
              "      <td>65.000000</td>\n",
              "      <td>12.000000</td>\n",
              "    </tr>\n",
              "    <tr>\n",
              "      <th>max</th>\n",
              "      <td>246620.000000</td>\n",
              "      <td>99.000000</td>\n",
              "      <td>45.000000</td>\n",
              "      <td>94.000000</td>\n",
              "      <td>95.000000</td>\n",
              "      <td>88.000000</td>\n",
              "      <td>86.000000</td>\n",
              "      <td>92.000000</td>\n",
              "      <td>89.000000</td>\n",
              "      <td>96.000000</td>\n",
              "      <td>95.000000</td>\n",
              "      <td>89.000000</td>\n",
              "    </tr>\n",
              "  </tbody>\n",
              "</table>\n",
              "</div>"
            ],
            "text/plain": [
              "                  ID  Jersey Number  ...        Mental   GoalKeeping\n",
              "count   18207.000000   18147.000000  ...  18159.000000  18159.000000\n",
              "mean   214298.338606      19.546096  ...     57.958974     16.468087\n",
              "std     29965.244204      15.947765  ...      9.933340     17.002775\n",
              "min        16.000000       1.000000  ...     25.000000      1.000000\n",
              "25%    200315.500000       8.000000  ...     51.000000     10.000000\n",
              "50%    221759.000000      17.000000  ...     58.000000     11.000000\n",
              "75%    236529.500000      26.000000  ...     65.000000     12.000000\n",
              "max    246620.000000      99.000000  ...     95.000000     89.000000\n",
              "\n",
              "[8 rows x 12 columns]"
            ]
          },
          "metadata": {
            "tags": []
          },
          "execution_count": 9
        }
      ]
    },
    {
      "cell_type": "markdown",
      "metadata": {
        "id": "M7gI3AUceQxn"
      },
      "source": [
        "## Tratamiento de datos\n"
      ]
    },
    {
      "cell_type": "markdown",
      "metadata": {
        "id": "lY9Wx2ZVjLfE"
      },
      "source": [
        "### Datos faltantes\n",
        "\n",
        "Antes de poder hacer transformaciones y operaciones en los datos, es importante identificar la posible existencia de datos faltantes. El método ```isna()``` de pandas, permite obtener un dataframe booleano que identifica entradas faltantes. \n",
        "\n",
        "Usémos ```isna()```, ```sum(axis=0)``` y ```to_frame().T``` para resumir el resultado de datos faltantes como un conteo por columnas:"
      ]
    },
    {
      "cell_type": "code",
      "metadata": {
        "id": "4V_yaO_lOKnv",
        "colab": {
          "base_uri": "https://localhost:8080/",
          "height": 118
        },
        "outputId": "df97fd44-83ec-44fe-9d1f-704370cdb431"
      },
      "source": [
        "fifa_df.isna().sum(axis=0).to_frame().T"
      ],
      "execution_count": 10,
      "outputs": [
        {
          "output_type": "execute_result",
          "data": {
            "text/html": [
              "<div>\n",
              "<style scoped>\n",
              "    .dataframe tbody tr th:only-of-type {\n",
              "        vertical-align: middle;\n",
              "    }\n",
              "\n",
              "    .dataframe tbody tr th {\n",
              "        vertical-align: top;\n",
              "    }\n",
              "\n",
              "    .dataframe thead th {\n",
              "        text-align: right;\n",
              "    }\n",
              "</style>\n",
              "<table border=\"1\" class=\"dataframe\">\n",
              "  <thead>\n",
              "    <tr style=\"text-align: right;\">\n",
              "      <th></th>\n",
              "      <th>ID</th>\n",
              "      <th>Name</th>\n",
              "      <th>Nationality</th>\n",
              "      <th>Club</th>\n",
              "      <th>Jersey Number</th>\n",
              "      <th>Value</th>\n",
              "      <th>Wage</th>\n",
              "      <th>Age</th>\n",
              "      <th>Height</th>\n",
              "      <th>Weight</th>\n",
              "      <th>Preferred Foot</th>\n",
              "      <th>Position</th>\n",
              "      <th>Overall</th>\n",
              "      <th>Potential</th>\n",
              "      <th>Shooting</th>\n",
              "      <th>Defense</th>\n",
              "      <th>Passing</th>\n",
              "      <th>Physical</th>\n",
              "      <th>Control</th>\n",
              "      <th>Mental</th>\n",
              "      <th>GoalKeeping</th>\n",
              "    </tr>\n",
              "  </thead>\n",
              "  <tbody>\n",
              "    <tr>\n",
              "      <th>0</th>\n",
              "      <td>0</td>\n",
              "      <td>0</td>\n",
              "      <td>0</td>\n",
              "      <td>241</td>\n",
              "      <td>60</td>\n",
              "      <td>0</td>\n",
              "      <td>0</td>\n",
              "      <td>0</td>\n",
              "      <td>48</td>\n",
              "      <td>48</td>\n",
              "      <td>48</td>\n",
              "      <td>60</td>\n",
              "      <td>0</td>\n",
              "      <td>0</td>\n",
              "      <td>48</td>\n",
              "      <td>48</td>\n",
              "      <td>48</td>\n",
              "      <td>48</td>\n",
              "      <td>48</td>\n",
              "      <td>48</td>\n",
              "      <td>48</td>\n",
              "    </tr>\n",
              "  </tbody>\n",
              "</table>\n",
              "</div>"
            ],
            "text/plain": [
              "   ID  Name  Nationality  Club  ...  Physical  Control  Mental  GoalKeeping\n",
              "0   0     0            0   241  ...        48       48      48           48\n",
              "\n",
              "[1 rows x 21 columns]"
            ]
          },
          "metadata": {
            "tags": []
          },
          "execution_count": 10
        }
      ]
    },
    {
      "cell_type": "markdown",
      "metadata": {
        "id": "sqr4xWue_fyB"
      },
      "source": [
        "Una manera de tratar con datos faltantes, es eliminar las filas que contienen uno o más datos faltantes, dejando solo registros completos.\n",
        "\n",
        "Ya que para nuestro conjunto de datos la cantidad de faltantes es mínima, podemos usar esta estrategia.\n",
        "\n",
        "Completa la siguiente celda para eliminar filas (```axis=0```) que contengan algún dato faltante (```dropna```):"
      ]
    },
    {
      "cell_type": "code",
      "metadata": {
        "id": "3mPe2ufH_RF0"
      },
      "source": [
        "t_df = fifa_df.dropna(axis=0)"
      ],
      "execution_count": 11,
      "outputs": []
    },
    {
      "cell_type": "markdown",
      "metadata": {
        "id": "8uCtFmp1_wsC"
      },
      "source": [
        "Verifica que no hay más datos faltantes:"
      ]
    },
    {
      "cell_type": "code",
      "metadata": {
        "id": "RvgIwrck_vFw",
        "colab": {
          "base_uri": "https://localhost:8080/",
          "height": 118
        },
        "outputId": "4b98c562-32c6-4c00-ad02-e117da41a8af"
      },
      "source": [
        "empty_columns = t_df.isna().sum(axis=0).to_frame().T\n",
        "empty_columns"
      ],
      "execution_count": 12,
      "outputs": [
        {
          "output_type": "execute_result",
          "data": {
            "text/html": [
              "<div>\n",
              "<style scoped>\n",
              "    .dataframe tbody tr th:only-of-type {\n",
              "        vertical-align: middle;\n",
              "    }\n",
              "\n",
              "    .dataframe tbody tr th {\n",
              "        vertical-align: top;\n",
              "    }\n",
              "\n",
              "    .dataframe thead th {\n",
              "        text-align: right;\n",
              "    }\n",
              "</style>\n",
              "<table border=\"1\" class=\"dataframe\">\n",
              "  <thead>\n",
              "    <tr style=\"text-align: right;\">\n",
              "      <th></th>\n",
              "      <th>ID</th>\n",
              "      <th>Name</th>\n",
              "      <th>Nationality</th>\n",
              "      <th>Club</th>\n",
              "      <th>Jersey Number</th>\n",
              "      <th>Value</th>\n",
              "      <th>Wage</th>\n",
              "      <th>Age</th>\n",
              "      <th>Height</th>\n",
              "      <th>Weight</th>\n",
              "      <th>Preferred Foot</th>\n",
              "      <th>Position</th>\n",
              "      <th>Overall</th>\n",
              "      <th>Potential</th>\n",
              "      <th>Shooting</th>\n",
              "      <th>Defense</th>\n",
              "      <th>Passing</th>\n",
              "      <th>Physical</th>\n",
              "      <th>Control</th>\n",
              "      <th>Mental</th>\n",
              "      <th>GoalKeeping</th>\n",
              "    </tr>\n",
              "  </thead>\n",
              "  <tbody>\n",
              "    <tr>\n",
              "      <th>0</th>\n",
              "      <td>0</td>\n",
              "      <td>0</td>\n",
              "      <td>0</td>\n",
              "      <td>0</td>\n",
              "      <td>0</td>\n",
              "      <td>0</td>\n",
              "      <td>0</td>\n",
              "      <td>0</td>\n",
              "      <td>0</td>\n",
              "      <td>0</td>\n",
              "      <td>0</td>\n",
              "      <td>0</td>\n",
              "      <td>0</td>\n",
              "      <td>0</td>\n",
              "      <td>0</td>\n",
              "      <td>0</td>\n",
              "      <td>0</td>\n",
              "      <td>0</td>\n",
              "      <td>0</td>\n",
              "      <td>0</td>\n",
              "      <td>0</td>\n",
              "    </tr>\n",
              "  </tbody>\n",
              "</table>\n",
              "</div>"
            ],
            "text/plain": [
              "   ID  Name  Nationality  Club  ...  Physical  Control  Mental  GoalKeeping\n",
              "0   0     0            0     0  ...         0        0       0            0\n",
              "\n",
              "[1 rows x 21 columns]"
            ]
          },
          "metadata": {
            "tags": []
          },
          "execution_count": 12
        }
      ]
    },
    {
      "cell_type": "code",
      "metadata": {
        "id": "mnwBq3J1-jp1"
      },
      "source": [
        "assert empty_columns.values.sum() == 0, \"Error, aun hay datos faltantes\""
      ],
      "execution_count": 13,
      "outputs": []
    },
    {
      "cell_type": "markdown",
      "metadata": {
        "id": "oiKIUMTTAvVX"
      },
      "source": [
        "Finalmente, reemplazar el dataframe original por el nuevo sin elementos faltantes."
      ]
    },
    {
      "cell_type": "code",
      "metadata": {
        "id": "0U8cSIyJAvpA"
      },
      "source": [
        "fifa_df = t_df"
      ],
      "execution_count": 14,
      "outputs": []
    },
    {
      "cell_type": "markdown",
      "metadata": {
        "id": "-JYl7aVLjHkH"
      },
      "source": [
        "### Transformaciones\n",
        "\n",
        "Las celdas fueron inferidas como tipo ```object``` por pandas. Algunas de éstas contienen datos numéricos que podrían ser útiles para el análisis. \n",
        "\n",
        "Por ejemplo, las columnas ```Wage``` y ```Value``` contienen datos sobre el salario y el valor en el mercado de cada jugador. Ambas columnas contienen el signo de la moneda (€) al inicio y al final pueden contener la abreviación de cantidades (K miles, M millones). \n",
        "\n",
        "Debemos realizar un tratamiento de datos en tales columnas para poder usarlas de manera numérica."
      ]
    },
    {
      "cell_type": "markdown",
      "metadata": {
        "id": "maMPRPAzxbqX"
      },
      "source": [
        "Primero, confirmemos que solo tenemos casos donde las cantidades terminan en K, M o sin abreviaturas. Usemos funciones de agregación.\n",
        "\n",
        "Contemos las veces que aparecen los distintos caracteres al final de los registros en la columna ```Wage```:"
      ]
    },
    {
      "cell_type": "code",
      "metadata": {
        "id": "VPojzkU5s_iJ",
        "colab": {
          "base_uri": "https://localhost:8080/",
          "height": 112
        },
        "outputId": "fe4b210b-7bda-462c-f08d-e27351d7ca63"
      },
      "source": [
        "fifa_df[[\"Wage\"]].groupby(fifa_df.Wage.str[-1]).count()"
      ],
      "execution_count": 19,
      "outputs": [
        {
          "output_type": "execute_result",
          "data": {
            "text/html": [
              "<div>\n",
              "<style scoped>\n",
              "    .dataframe tbody tr th:only-of-type {\n",
              "        vertical-align: middle;\n",
              "    }\n",
              "\n",
              "    .dataframe tbody tr th {\n",
              "        vertical-align: top;\n",
              "    }\n",
              "\n",
              "    .dataframe thead th {\n",
              "        text-align: right;\n",
              "    }\n",
              "</style>\n",
              "<table border=\"1\" class=\"dataframe\">\n",
              "  <thead>\n",
              "    <tr style=\"text-align: right;\">\n",
              "      <th></th>\n",
              "      <th>Wage</th>\n",
              "    </tr>\n",
              "    <tr>\n",
              "      <th>Wage</th>\n",
              "      <th></th>\n",
              "    </tr>\n",
              "  </thead>\n",
              "  <tbody>\n",
              "    <tr>\n",
              "      <th>K</th>\n",
              "      <td>17918</td>\n",
              "    </tr>\n",
              "  </tbody>\n",
              "</table>\n",
              "</div>"
            ],
            "text/plain": [
              "       Wage\n",
              "Wage       \n",
              "K     17918"
            ]
          },
          "metadata": {
            "tags": []
          },
          "execution_count": 19
        }
      ]
    },
    {
      "cell_type": "code",
      "metadata": {
        "colab": {
          "base_uri": "https://localhost:8080/",
          "height": 112
        },
        "id": "UQA0XYGPLcUR",
        "outputId": "459b2ce1-1a65-4da0-a0f6-e6eb10268f09"
      },
      "source": [
        "fifa_df[[\"Wage\"]].groupby(fifa_df.Wage.str[0]).count()"
      ],
      "execution_count": 25,
      "outputs": [
        {
          "output_type": "execute_result",
          "data": {
            "text/html": [
              "<div>\n",
              "<style scoped>\n",
              "    .dataframe tbody tr th:only-of-type {\n",
              "        vertical-align: middle;\n",
              "    }\n",
              "\n",
              "    .dataframe tbody tr th {\n",
              "        vertical-align: top;\n",
              "    }\n",
              "\n",
              "    .dataframe thead th {\n",
              "        text-align: right;\n",
              "    }\n",
              "</style>\n",
              "<table border=\"1\" class=\"dataframe\">\n",
              "  <thead>\n",
              "    <tr style=\"text-align: right;\">\n",
              "      <th></th>\n",
              "      <th>Wage</th>\n",
              "    </tr>\n",
              "    <tr>\n",
              "      <th>Wage</th>\n",
              "      <th></th>\n",
              "    </tr>\n",
              "  </thead>\n",
              "  <tbody>\n",
              "    <tr>\n",
              "      <th>€</th>\n",
              "      <td>17918</td>\n",
              "    </tr>\n",
              "  </tbody>\n",
              "</table>\n",
              "</div>"
            ],
            "text/plain": [
              "       Wage\n",
              "Wage       \n",
              "€     17918"
            ]
          },
          "metadata": {
            "tags": []
          },
          "execution_count": 25
        }
      ]
    },
    {
      "cell_type": "markdown",
      "metadata": {
        "id": "aOrZkbQru0_0"
      },
      "source": [
        "Contemos las veces que aparecen los distintos caracteres al final de los registros en la columna ```Value```:"
      ]
    },
    {
      "cell_type": "code",
      "metadata": {
        "id": "y1GjUZ4Gti1d",
        "colab": {
          "base_uri": "https://localhost:8080/",
          "height": 174
        },
        "outputId": "20817d83-2e12-4e12-da0c-85247f2a85e4"
      },
      "source": [
        "fifa_df[[\"Value\"]].groupby(fifa_df.Value.str[-1]).count()"
      ],
      "execution_count": 20,
      "outputs": [
        {
          "output_type": "execute_result",
          "data": {
            "text/html": [
              "<div>\n",
              "<style scoped>\n",
              "    .dataframe tbody tr th:only-of-type {\n",
              "        vertical-align: middle;\n",
              "    }\n",
              "\n",
              "    .dataframe tbody tr th {\n",
              "        vertical-align: top;\n",
              "    }\n",
              "\n",
              "    .dataframe thead th {\n",
              "        text-align: right;\n",
              "    }\n",
              "</style>\n",
              "<table border=\"1\" class=\"dataframe\">\n",
              "  <thead>\n",
              "    <tr style=\"text-align: right;\">\n",
              "      <th></th>\n",
              "      <th>Value</th>\n",
              "    </tr>\n",
              "    <tr>\n",
              "      <th>Value</th>\n",
              "      <th></th>\n",
              "    </tr>\n",
              "  </thead>\n",
              "  <tbody>\n",
              "    <tr>\n",
              "      <th>0</th>\n",
              "      <td>11</td>\n",
              "    </tr>\n",
              "    <tr>\n",
              "      <th>K</th>\n",
              "      <td>11060</td>\n",
              "    </tr>\n",
              "    <tr>\n",
              "      <th>M</th>\n",
              "      <td>6847</td>\n",
              "    </tr>\n",
              "  </tbody>\n",
              "</table>\n",
              "</div>"
            ],
            "text/plain": [
              "       Value\n",
              "Value       \n",
              "0         11\n",
              "K      11060\n",
              "M       6847"
            ]
          },
          "metadata": {
            "tags": []
          },
          "execution_count": 20
        }
      ]
    },
    {
      "cell_type": "code",
      "metadata": {
        "colab": {
          "base_uri": "https://localhost:8080/",
          "height": 112
        },
        "id": "cuFqD0cYLmoQ",
        "outputId": "4285f92f-ce25-4925-86c9-262cf50880f5"
      },
      "source": [
        "fifa_df[[\"Value\"]].groupby(fifa_df.Value.str[0]).count()"
      ],
      "execution_count": 26,
      "outputs": [
        {
          "output_type": "execute_result",
          "data": {
            "text/html": [
              "<div>\n",
              "<style scoped>\n",
              "    .dataframe tbody tr th:only-of-type {\n",
              "        vertical-align: middle;\n",
              "    }\n",
              "\n",
              "    .dataframe tbody tr th {\n",
              "        vertical-align: top;\n",
              "    }\n",
              "\n",
              "    .dataframe thead th {\n",
              "        text-align: right;\n",
              "    }\n",
              "</style>\n",
              "<table border=\"1\" class=\"dataframe\">\n",
              "  <thead>\n",
              "    <tr style=\"text-align: right;\">\n",
              "      <th></th>\n",
              "      <th>Value</th>\n",
              "    </tr>\n",
              "    <tr>\n",
              "      <th>Value</th>\n",
              "      <th></th>\n",
              "    </tr>\n",
              "  </thead>\n",
              "  <tbody>\n",
              "    <tr>\n",
              "      <th>€</th>\n",
              "      <td>17918</td>\n",
              "    </tr>\n",
              "  </tbody>\n",
              "</table>\n",
              "</div>"
            ],
            "text/plain": [
              "       Value\n",
              "Value       \n",
              "€      17918"
            ]
          },
          "metadata": {
            "tags": []
          },
          "execution_count": 26
        }
      ]
    },
    {
      "cell_type": "code",
      "metadata": {
        "id": "0Ar7f3NmeTWu"
      },
      "source": [
        "def currency_to_numeric(currency):\n",
        "  \"\"\"\n",
        "  La funcion recibe valores monetarios en un objeto de texto, los tranforma:\n",
        "  1- Elimina el simbolo de la moneda al inicio de la cadena\n",
        "  2- Extrae el caracter adicional al final de la cadena que indica el\n",
        "     multiplo de la cantidad (abreviatura). No siempre hay un simbolo.\n",
        "  3- Usa el valor para devolver la cantidad en numero (multiplica por el valor).\n",
        "  Ej: 250K pasa a 250000\n",
        "  ya que\n",
        "  1K = 1000\n",
        "  1M = 1000000\n",
        "  Sin letra solo parte numerica\n",
        "  \"\"\"\n",
        "  #TIP 1: estoy procesando cadenas\n",
        "  #TIP 2: puedo usar slicing\n",
        "  #TIP 3: lógica de la solución\n",
        "  # 1. Necesito saber si el último caracter es 'K' o 'M'\n",
        "  # 2. Si lo es, entonces saco del dicccionario el valor del multiplo\n",
        "  # 3. En cualquier caso sólo me quedo con los caracteres después del primero (simbolo de la moneda)\n",
        "\n",
        "  # el multiplo de K o M\n",
        "  symbols = {\"K\": 1000, \"M\": 1000000}\n",
        "  # Actualiza el valor de numeric con la cantidad en currency\n",
        "  numeric = 0.0\n",
        "  # try:\n",
        "  #   if float(currency[0]) != 0:\n",
        "  #     print(\"el primer caracter es un número\")\n",
        "  # except:\n",
        "  #   print(\"el primer caracter no es un número\")\n",
        "  # if currency[0].isdigit() == True:\n",
        "  #   print(\"el primer caracter es un número\")\n",
        "  # else:\n",
        "  #   print(\"el primer caracter no es un número\")\n",
        "  multiplo = currency[-1]\n",
        "  valor = currency[1:]\n",
        "  if multiplo in symbols:\n",
        "    numeric = float(valor[:-1])*symbols[multiplo]\n",
        "  else:\n",
        "    numeric = float(valor)\n",
        "  \n",
        "  return numeric"
      ],
      "execution_count": 36,
      "outputs": []
    },
    {
      "cell_type": "markdown",
      "metadata": {
        "id": "fvCFRq0shNl_"
      },
      "source": [
        "Prueba tu función:"
      ]
    },
    {
      "cell_type": "code",
      "metadata": {
        "id": "LpevNclWhMBm",
        "colab": {
          "base_uri": "https://localhost:8080/"
        },
        "outputId": "75208393-251f-43eb-ad74-5963c37cebd2"
      },
      "source": [
        "print(currency_to_numeric(\"$20\"))\r\n",
        "print(currency_to_numeric(\"$50K\"))"
      ],
      "execution_count": 37,
      "outputs": [
        {
          "output_type": "stream",
          "text": [
            "20.0\n",
            "50000.0\n"
          ],
          "name": "stdout"
        }
      ]
    },
    {
      "cell_type": "code",
      "metadata": {
        "id": "Ti7YRyBRzzuk"
      },
      "source": [
        "assert currency_to_numeric(\"$20\") == 20.0 and currency_to_numeric(\"$50K\") == 50*10.0**3 and currency_to_numeric(\"$10M\") == 10*10.0**6, \"Error\""
      ],
      "execution_count": null,
      "outputs": []
    },
    {
      "cell_type": "markdown",
      "metadata": {
        "id": "2qhnh9vLhQSf"
      },
      "source": [
        "Cambia las columnas ```Wage``` y ```Value``` a numéricos usando ```currency_to_numeric``` elemento por elemento con ```applymap```:"
      ]
    },
    {
      "cell_type": "code",
      "metadata": {
        "id": "Md4hPL9ohZXS",
        "colab": {
          "base_uri": "https://localhost:8080/",
          "height": 330
        },
        "outputId": "d867387d-404d-4279-adc8-e8b0e12325fe"
      },
      "source": [
        "fifa_df[[\"Wage\", \"Value\"]] = fifa_df[[\"Wage\", \"Value\"]].applymap(currency_to_numeric)\n",
        "fifa_df.head()"
      ],
      "execution_count": 38,
      "outputs": [
        {
          "output_type": "execute_result",
          "data": {
            "text/html": [
              "<div>\n",
              "<style scoped>\n",
              "    .dataframe tbody tr th:only-of-type {\n",
              "        vertical-align: middle;\n",
              "    }\n",
              "\n",
              "    .dataframe tbody tr th {\n",
              "        vertical-align: top;\n",
              "    }\n",
              "\n",
              "    .dataframe thead th {\n",
              "        text-align: right;\n",
              "    }\n",
              "</style>\n",
              "<table border=\"1\" class=\"dataframe\">\n",
              "  <thead>\n",
              "    <tr style=\"text-align: right;\">\n",
              "      <th></th>\n",
              "      <th>ID</th>\n",
              "      <th>Name</th>\n",
              "      <th>Nationality</th>\n",
              "      <th>Club</th>\n",
              "      <th>Jersey Number</th>\n",
              "      <th>Value</th>\n",
              "      <th>Wage</th>\n",
              "      <th>Age</th>\n",
              "      <th>Height</th>\n",
              "      <th>Weight</th>\n",
              "      <th>Preferred Foot</th>\n",
              "      <th>Position</th>\n",
              "      <th>Overall</th>\n",
              "      <th>Potential</th>\n",
              "      <th>Shooting</th>\n",
              "      <th>Defense</th>\n",
              "      <th>Passing</th>\n",
              "      <th>Physical</th>\n",
              "      <th>Control</th>\n",
              "      <th>Mental</th>\n",
              "      <th>GoalKeeping</th>\n",
              "    </tr>\n",
              "  </thead>\n",
              "  <tbody>\n",
              "    <tr>\n",
              "      <th>0</th>\n",
              "      <td>158023</td>\n",
              "      <td>L. Messi</td>\n",
              "      <td>Argentina</td>\n",
              "      <td>FC Barcelona</td>\n",
              "      <td>10.0</td>\n",
              "      <td>110500000.0</td>\n",
              "      <td>565000.0</td>\n",
              "      <td>31</td>\n",
              "      <td>5'7</td>\n",
              "      <td>159lbs</td>\n",
              "      <td>Left</td>\n",
              "      <td>RF</td>\n",
              "      <td>94</td>\n",
              "      <td>94</td>\n",
              "      <td>86.0</td>\n",
              "      <td>41.0</td>\n",
              "      <td>87.0</td>\n",
              "      <td>80.0</td>\n",
              "      <td>96.0</td>\n",
              "      <td>95.0</td>\n",
              "      <td>11.0</td>\n",
              "    </tr>\n",
              "    <tr>\n",
              "      <th>1</th>\n",
              "      <td>20801</td>\n",
              "      <td>Cristiano Ronaldo</td>\n",
              "      <td>Portugal</td>\n",
              "      <td>Juventus</td>\n",
              "      <td>7.0</td>\n",
              "      <td>77000000.0</td>\n",
              "      <td>405000.0</td>\n",
              "      <td>33</td>\n",
              "      <td>6'2</td>\n",
              "      <td>183lbs</td>\n",
              "      <td>Right</td>\n",
              "      <td>ST</td>\n",
              "      <td>94</td>\n",
              "      <td>94</td>\n",
              "      <td>88.0</td>\n",
              "      <td>41.0</td>\n",
              "      <td>81.0</td>\n",
              "      <td>86.0</td>\n",
              "      <td>84.0</td>\n",
              "      <td>91.0</td>\n",
              "      <td>12.0</td>\n",
              "    </tr>\n",
              "    <tr>\n",
              "      <th>2</th>\n",
              "      <td>190871</td>\n",
              "      <td>Neymar Jr</td>\n",
              "      <td>Brazil</td>\n",
              "      <td>Paris Saint-Germain</td>\n",
              "      <td>10.0</td>\n",
              "      <td>118500000.0</td>\n",
              "      <td>290000.0</td>\n",
              "      <td>26</td>\n",
              "      <td>5'9</td>\n",
              "      <td>150lbs</td>\n",
              "      <td>Right</td>\n",
              "      <td>LW</td>\n",
              "      <td>92</td>\n",
              "      <td>93</td>\n",
              "      <td>81.0</td>\n",
              "      <td>42.0</td>\n",
              "      <td>80.0</td>\n",
              "      <td>79.0</td>\n",
              "      <td>92.0</td>\n",
              "      <td>92.0</td>\n",
              "      <td>12.0</td>\n",
              "    </tr>\n",
              "    <tr>\n",
              "      <th>3</th>\n",
              "      <td>193080</td>\n",
              "      <td>De Gea</td>\n",
              "      <td>Spain</td>\n",
              "      <td>Manchester United</td>\n",
              "      <td>1.0</td>\n",
              "      <td>72000000.0</td>\n",
              "      <td>260000.0</td>\n",
              "      <td>27</td>\n",
              "      <td>6'4</td>\n",
              "      <td>168lbs</td>\n",
              "      <td>Right</td>\n",
              "      <td>GK</td>\n",
              "      <td>91</td>\n",
              "      <td>93</td>\n",
              "      <td>21.0</td>\n",
              "      <td>18.0</td>\n",
              "      <td>39.0</td>\n",
              "      <td>56.0</td>\n",
              "      <td>34.0</td>\n",
              "      <td>75.0</td>\n",
              "      <td>89.0</td>\n",
              "    </tr>\n",
              "    <tr>\n",
              "      <th>4</th>\n",
              "      <td>192985</td>\n",
              "      <td>K. De Bruyne</td>\n",
              "      <td>Belgium</td>\n",
              "      <td>Manchester City</td>\n",
              "      <td>7.0</td>\n",
              "      <td>102000000.0</td>\n",
              "      <td>355000.0</td>\n",
              "      <td>27</td>\n",
              "      <td>5'11</td>\n",
              "      <td>154lbs</td>\n",
              "      <td>Right</td>\n",
              "      <td>RCM</td>\n",
              "      <td>91</td>\n",
              "      <td>92</td>\n",
              "      <td>81.0</td>\n",
              "      <td>65.0</td>\n",
              "      <td>92.0</td>\n",
              "      <td>77.0</td>\n",
              "      <td>85.0</td>\n",
              "      <td>91.0</td>\n",
              "      <td>11.0</td>\n",
              "    </tr>\n",
              "  </tbody>\n",
              "</table>\n",
              "</div>"
            ],
            "text/plain": [
              "       ID               Name Nationality  ... Control  Mental  GoalKeeping\n",
              "0  158023           L. Messi   Argentina  ...    96.0    95.0         11.0\n",
              "1   20801  Cristiano Ronaldo    Portugal  ...    84.0    91.0         12.0\n",
              "2  190871          Neymar Jr      Brazil  ...    92.0    92.0         12.0\n",
              "3  193080             De Gea       Spain  ...    34.0    75.0         89.0\n",
              "4  192985       K. De Bruyne     Belgium  ...    85.0    91.0         11.0\n",
              "\n",
              "[5 rows x 21 columns]"
            ]
          },
          "metadata": {
            "tags": []
          },
          "execution_count": 38
        }
      ]
    },
    {
      "cell_type": "markdown",
      "metadata": {
        "id": "sWhWdHIr4x7O"
      },
      "source": [
        "### Suplementando la información\n",
        "\n",
        "En el set de datos, tenemos una columna ```Position``` que indica la posición en la que el jugador se desempeña en el campo. Algo que podrás notar, es que originalmente la posición está de manera abreviada, si no conoces las abreviaturas, será complicado saber en qué posición juega cada jugador. \n",
        "\n",
        "\n",
        "Para solucionar esto, usémos otro set de datos para cambiar de abreviatura a algo más descriptivo, pero manteniendo la abreviatura.\n",
        "\n",
        "La siguiente imágen muestra las posiciónes más comunes en el campo:\n",
        "![Posiciones de juego](https://raw.githubusercontent.com/jhermosillo/DIPLOMADO_CDP/main/01%20Programaci%C3%B3n%20en%20Python/images/SoccerFieldPositions.png)\n"
      ]
    },
    {
      "cell_type": "markdown",
      "metadata": {
        "id": "juf6Sw6i64es"
      },
      "source": [
        "Vamos a utilizar un nuevo set de datos que contiene la abreviatura de cada posición (```Abbreviation```) y su significado (```Full```).\n",
        "\n",
        "Carga el archivo desde github a colab con la siguiente celda:"
      ]
    },
    {
      "cell_type": "code",
      "metadata": {
        "id": "EpicEmIrAl7M",
        "colab": {
          "base_uri": "https://localhost:8080/"
        },
        "outputId": "381e3bb2-4417-41a5-f2a9-d2836fdbd4de"
      },
      "source": [
        "# Fetch the dataset using the raw GitHub URL.\n",
        "!curl --remote-name \\\n",
        "     -H 'Accept: application/vnd.github.v3.raw' \\\n",
        "     --location https://raw.githubusercontent.com/jhermosillo/DIPLOMADO_CDP/main/01%20Programaci%C3%B3n%20en%20Python/data/fifa/positions.csv"
      ],
      "execution_count": 39,
      "outputs": [
        {
          "output_type": "stream",
          "text": [
            "  % Total    % Received % Xferd  Average Speed   Time    Time     Time  Current\n",
            "                                 Dload  Upload   Total   Spent    Left  Speed\n",
            "\r  0     0    0     0    0     0      0      0 --:--:-- --:--:-- --:--:--     0\r100   772  100   772    0     0   2859      0 --:--:-- --:--:-- --:--:--  2859\n"
          ],
          "name": "stdout"
        }
      ]
    },
    {
      "cell_type": "markdown",
      "metadata": {
        "id": "_8WhqOUzBxI0"
      },
      "source": [
        "Ejecuta la siguiente celda para crear y ver el nuevo dataframe con los datos de las posiciones:"
      ]
    },
    {
      "cell_type": "code",
      "metadata": {
        "id": "fEuD-qyI4yWj",
        "colab": {
          "base_uri": "https://localhost:8080/",
          "height": 206
        },
        "outputId": "cca80b9e-f979-4ebb-d3ea-e231c57148e2"
      },
      "source": [
        "positions_df = pd.read_csv(\"positions.csv\", header=0, skipinitialspace=True)\n",
        "positions_df.head()"
      ],
      "execution_count": 40,
      "outputs": [
        {
          "output_type": "execute_result",
          "data": {
            "text/html": [
              "<div>\n",
              "<style scoped>\n",
              "    .dataframe tbody tr th:only-of-type {\n",
              "        vertical-align: middle;\n",
              "    }\n",
              "\n",
              "    .dataframe tbody tr th {\n",
              "        vertical-align: top;\n",
              "    }\n",
              "\n",
              "    .dataframe thead th {\n",
              "        text-align: right;\n",
              "    }\n",
              "</style>\n",
              "<table border=\"1\" class=\"dataframe\">\n",
              "  <thead>\n",
              "    <tr style=\"text-align: right;\">\n",
              "      <th></th>\n",
              "      <th>Abbreviation</th>\n",
              "      <th>Full</th>\n",
              "    </tr>\n",
              "  </thead>\n",
              "  <tbody>\n",
              "    <tr>\n",
              "      <th>0</th>\n",
              "      <td>GK</td>\n",
              "      <td>Goalkeeper</td>\n",
              "    </tr>\n",
              "    <tr>\n",
              "      <th>1</th>\n",
              "      <td>SW</td>\n",
              "      <td>Sweeper</td>\n",
              "    </tr>\n",
              "    <tr>\n",
              "      <th>2</th>\n",
              "      <td>CB</td>\n",
              "      <td>Center Back</td>\n",
              "    </tr>\n",
              "    <tr>\n",
              "      <th>3</th>\n",
              "      <td>LCB</td>\n",
              "      <td>Left Center Back</td>\n",
              "    </tr>\n",
              "    <tr>\n",
              "      <th>4</th>\n",
              "      <td>RCB</td>\n",
              "      <td>Right Center Back</td>\n",
              "    </tr>\n",
              "  </tbody>\n",
              "</table>\n",
              "</div>"
            ],
            "text/plain": [
              "  Abbreviation               Full\n",
              "0           GK         Goalkeeper\n",
              "1           SW            Sweeper\n",
              "2           CB        Center Back\n",
              "3          LCB   Left Center Back\n",
              "4          RCB  Right Center Back"
            ]
          },
          "metadata": {
            "tags": []
          },
          "execution_count": 40
        }
      ]
    },
    {
      "cell_type": "code",
      "metadata": {
        "colab": {
          "base_uri": "https://localhost:8080/"
        },
        "id": "RSi3WuqaOjtA",
        "outputId": "00f06d0b-40af-4eea-d7a7-e11b33711f7d"
      },
      "source": [
        "positions_df.shape"
      ],
      "execution_count": 41,
      "outputs": [
        {
          "output_type": "execute_result",
          "data": {
            "text/plain": [
              "(36, 2)"
            ]
          },
          "metadata": {
            "tags": []
          },
          "execution_count": 41
        }
      ]
    },
    {
      "cell_type": "markdown",
      "metadata": {
        "id": "ZC62QetW7Ier"
      },
      "source": [
        "Utiliza el nuevo dataframe para actualizar la columna ```Position``` en el dataframe de jugadores por la posición descriptiva + abreviada.\n",
        "\n",
        "Primero, debemos de *unir* ambos dataframes, ambos comparten una columna (pero tienen diferentes nombre) la posición abreviada.\n",
        "\n",
        "Utiliza un método de pandas para unir el dataframe ```fifa_df``` con ```positions_df```.\n",
        "\n",
        "*Tip: Queremos unir cada fila de la **izquierda** (cada jugador) con una sola fila de la **derecha** (su posición completa en el campo).*"
      ]
    },
    {
      "cell_type": "code",
      "metadata": {
        "id": "1UsLj_dY7UUG"
      },
      "source": [
        "merged_df = fifa_df.merge(positions_df,\\\r\n",
        "                          how='inner',\\\r\n",
        "                          left_on='Position',\\\r\n",
        "                          right_on='Abbreviation')"
      ],
      "execution_count": 53,
      "outputs": []
    },
    {
      "cell_type": "code",
      "metadata": {
        "id": "andWs45D6jV5",
        "colab": {
          "base_uri": "https://localhost:8080/",
          "height": 330
        },
        "outputId": "159efb60-5de5-41dc-84e0-6f712734ffcc"
      },
      "source": [
        "merged_df.head()"
      ],
      "execution_count": 46,
      "outputs": [
        {
          "output_type": "execute_result",
          "data": {
            "text/html": [
              "<div>\n",
              "<style scoped>\n",
              "    .dataframe tbody tr th:only-of-type {\n",
              "        vertical-align: middle;\n",
              "    }\n",
              "\n",
              "    .dataframe tbody tr th {\n",
              "        vertical-align: top;\n",
              "    }\n",
              "\n",
              "    .dataframe thead th {\n",
              "        text-align: right;\n",
              "    }\n",
              "</style>\n",
              "<table border=\"1\" class=\"dataframe\">\n",
              "  <thead>\n",
              "    <tr style=\"text-align: right;\">\n",
              "      <th></th>\n",
              "      <th>ID</th>\n",
              "      <th>Name</th>\n",
              "      <th>Nationality</th>\n",
              "      <th>Club</th>\n",
              "      <th>Jersey Number</th>\n",
              "      <th>Value</th>\n",
              "      <th>Wage</th>\n",
              "      <th>Age</th>\n",
              "      <th>Height</th>\n",
              "      <th>Weight</th>\n",
              "      <th>Preferred Foot</th>\n",
              "      <th>Position</th>\n",
              "      <th>Overall</th>\n",
              "      <th>Potential</th>\n",
              "      <th>Shooting</th>\n",
              "      <th>Defense</th>\n",
              "      <th>Passing</th>\n",
              "      <th>Physical</th>\n",
              "      <th>Control</th>\n",
              "      <th>Mental</th>\n",
              "      <th>GoalKeeping</th>\n",
              "      <th>Abbreviation</th>\n",
              "      <th>Full</th>\n",
              "    </tr>\n",
              "  </thead>\n",
              "  <tbody>\n",
              "    <tr>\n",
              "      <th>0</th>\n",
              "      <td>158023</td>\n",
              "      <td>L. Messi</td>\n",
              "      <td>Argentina</td>\n",
              "      <td>FC Barcelona</td>\n",
              "      <td>10.0</td>\n",
              "      <td>110500000.0</td>\n",
              "      <td>565000.0</td>\n",
              "      <td>31</td>\n",
              "      <td>5'7</td>\n",
              "      <td>159lbs</td>\n",
              "      <td>Left</td>\n",
              "      <td>RF</td>\n",
              "      <td>94</td>\n",
              "      <td>94</td>\n",
              "      <td>86.0</td>\n",
              "      <td>41.0</td>\n",
              "      <td>87.0</td>\n",
              "      <td>80.0</td>\n",
              "      <td>96.0</td>\n",
              "      <td>95.0</td>\n",
              "      <td>11.0</td>\n",
              "      <td>RF</td>\n",
              "      <td>Right Forward</td>\n",
              "    </tr>\n",
              "    <tr>\n",
              "      <th>1</th>\n",
              "      <td>175943</td>\n",
              "      <td>D. Mertens</td>\n",
              "      <td>Belgium</td>\n",
              "      <td>Napoli</td>\n",
              "      <td>14.0</td>\n",
              "      <td>45000000.0</td>\n",
              "      <td>135000.0</td>\n",
              "      <td>31</td>\n",
              "      <td>5'7</td>\n",
              "      <td>134lbs</td>\n",
              "      <td>Right</td>\n",
              "      <td>RF</td>\n",
              "      <td>87</td>\n",
              "      <td>87</td>\n",
              "      <td>74.0</td>\n",
              "      <td>46.0</td>\n",
              "      <td>78.0</td>\n",
              "      <td>77.0</td>\n",
              "      <td>91.0</td>\n",
              "      <td>84.0</td>\n",
              "      <td>8.0</td>\n",
              "      <td>RF</td>\n",
              "      <td>Right Forward</td>\n",
              "    </tr>\n",
              "    <tr>\n",
              "      <th>2</th>\n",
              "      <td>172114</td>\n",
              "      <td>D. Valeri</td>\n",
              "      <td>Argentina</td>\n",
              "      <td>Portland Timbers</td>\n",
              "      <td>8.0</td>\n",
              "      <td>11500000.0</td>\n",
              "      <td>12000.0</td>\n",
              "      <td>32</td>\n",
              "      <td>5'10</td>\n",
              "      <td>165lbs</td>\n",
              "      <td>Right</td>\n",
              "      <td>RF</td>\n",
              "      <td>80</td>\n",
              "      <td>80</td>\n",
              "      <td>79.0</td>\n",
              "      <td>46.0</td>\n",
              "      <td>78.0</td>\n",
              "      <td>69.0</td>\n",
              "      <td>78.0</td>\n",
              "      <td>82.0</td>\n",
              "      <td>12.0</td>\n",
              "      <td>RF</td>\n",
              "      <td>Right Forward</td>\n",
              "    </tr>\n",
              "    <tr>\n",
              "      <th>3</th>\n",
              "      <td>150516</td>\n",
              "      <td>L. Podolski</td>\n",
              "      <td>Germany</td>\n",
              "      <td>Vissel Kobe</td>\n",
              "      <td>10.0</td>\n",
              "      <td>6500000.0</td>\n",
              "      <td>11000.0</td>\n",
              "      <td>33</td>\n",
              "      <td>6'0</td>\n",
              "      <td>183lbs</td>\n",
              "      <td>Left</td>\n",
              "      <td>RF</td>\n",
              "      <td>78</td>\n",
              "      <td>78</td>\n",
              "      <td>80.0</td>\n",
              "      <td>49.0</td>\n",
              "      <td>73.0</td>\n",
              "      <td>73.0</td>\n",
              "      <td>75.0</td>\n",
              "      <td>78.0</td>\n",
              "      <td>11.0</td>\n",
              "      <td>RF</td>\n",
              "      <td>Right Forward</td>\n",
              "    </tr>\n",
              "    <tr>\n",
              "      <th>4</th>\n",
              "      <td>201313</td>\n",
              "      <td>C. Ciano</td>\n",
              "      <td>Italy</td>\n",
              "      <td>Frosinone</td>\n",
              "      <td>28.0</td>\n",
              "      <td>6500000.0</td>\n",
              "      <td>17000.0</td>\n",
              "      <td>28</td>\n",
              "      <td>5'9</td>\n",
              "      <td>161lbs</td>\n",
              "      <td>Left</td>\n",
              "      <td>RF</td>\n",
              "      <td>75</td>\n",
              "      <td>75</td>\n",
              "      <td>70.0</td>\n",
              "      <td>32.0</td>\n",
              "      <td>72.0</td>\n",
              "      <td>72.0</td>\n",
              "      <td>77.0</td>\n",
              "      <td>72.0</td>\n",
              "      <td>9.0</td>\n",
              "      <td>RF</td>\n",
              "      <td>Right Forward</td>\n",
              "    </tr>\n",
              "  </tbody>\n",
              "</table>\n",
              "</div>"
            ],
            "text/plain": [
              "       ID         Name Nationality  ... GoalKeeping  Abbreviation           Full\n",
              "0  158023     L. Messi   Argentina  ...        11.0            RF  Right Forward\n",
              "1  175943   D. Mertens     Belgium  ...         8.0            RF  Right Forward\n",
              "2  172114    D. Valeri   Argentina  ...        12.0            RF  Right Forward\n",
              "3  150516  L. Podolski     Germany  ...        11.0            RF  Right Forward\n",
              "4  201313     C. Ciano       Italy  ...         9.0            RF  Right Forward\n",
              "\n",
              "[5 rows x 23 columns]"
            ]
          },
          "metadata": {
            "tags": []
          },
          "execution_count": 46
        }
      ]
    },
    {
      "cell_type": "code",
      "metadata": {
        "id": "AGYWwD_9C_17",
        "colab": {
          "base_uri": "https://localhost:8080/"
        },
        "outputId": "46fba5f0-0c1c-4d42-f29e-ec07cf0b9110"
      },
      "source": [
        "assert len(merged_df.columns) == 23, \"Error\"\n",
        "print(\"La union de ambos dataframes contiene \", len(merged_df.columns), \" columnas\")"
      ],
      "execution_count": 44,
      "outputs": [
        {
          "output_type": "stream",
          "text": [
            "La union de ambos dataframes contiene  23  columnas\n"
          ],
          "name": "stdout"
        }
      ]
    },
    {
      "cell_type": "markdown",
      "metadata": {
        "id": "WEZT4Via5wL_"
      },
      "source": [
        "Usemos la nueva columna ```Full``` para actualizar la columna ```Position``` para que contenga el significado y abreviatura de la posición:\n",
        "\n",
        "```merged_df[\"Full\"] + \" (\" + merged_df[\"Position\"] +\")\"```"
      ]
    },
    {
      "cell_type": "code",
      "metadata": {
        "id": "KVKr0Zry5wcb"
      },
      "source": [
        "merged_df[\"Position\"] = merged_df[\"Full\"] + \" (\" + merged_df[\"Position\"] +\")\""
      ],
      "execution_count": 54,
      "outputs": []
    },
    {
      "cell_type": "markdown",
      "metadata": {
        "id": "QXnqnZK6GL9k"
      },
      "source": [
        "Muestra la columna actualizada:"
      ]
    },
    {
      "cell_type": "code",
      "metadata": {
        "id": "MpKl_59uGLcI",
        "colab": {
          "base_uri": "https://localhost:8080/",
          "height": 143
        },
        "outputId": "a72bca0f-408e-4601-ddc9-46d4cd8651ec"
      },
      "source": [
        "merged_df[[\"Position\"]].head(3)"
      ],
      "execution_count": 49,
      "outputs": [
        {
          "output_type": "execute_result",
          "data": {
            "text/html": [
              "<div>\n",
              "<style scoped>\n",
              "    .dataframe tbody tr th:only-of-type {\n",
              "        vertical-align: middle;\n",
              "    }\n",
              "\n",
              "    .dataframe tbody tr th {\n",
              "        vertical-align: top;\n",
              "    }\n",
              "\n",
              "    .dataframe thead th {\n",
              "        text-align: right;\n",
              "    }\n",
              "</style>\n",
              "<table border=\"1\" class=\"dataframe\">\n",
              "  <thead>\n",
              "    <tr style=\"text-align: right;\">\n",
              "      <th></th>\n",
              "      <th>Position</th>\n",
              "    </tr>\n",
              "  </thead>\n",
              "  <tbody>\n",
              "    <tr>\n",
              "      <th>0</th>\n",
              "      <td>Right Forward (RF)</td>\n",
              "    </tr>\n",
              "    <tr>\n",
              "      <th>1</th>\n",
              "      <td>Right Forward (RF)</td>\n",
              "    </tr>\n",
              "    <tr>\n",
              "      <th>2</th>\n",
              "      <td>Right Forward (RF)</td>\n",
              "    </tr>\n",
              "  </tbody>\n",
              "</table>\n",
              "</div>"
            ],
            "text/plain": [
              "             Position\n",
              "0  Right Forward (RF)\n",
              "1  Right Forward (RF)\n",
              "2  Right Forward (RF)"
            ]
          },
          "metadata": {
            "tags": []
          },
          "execution_count": 49
        }
      ]
    },
    {
      "cell_type": "markdown",
      "metadata": {
        "id": "xmeIYYIa5nq5"
      },
      "source": [
        "Ahora, tenemos algunas columnas adicionales que ya no son útiles.\n",
        "\n",
        "Eliminemos las columnas ```Abbreviation``` y ```Full``` del dataframe usando ```drop()```:"
      ]
    },
    {
      "cell_type": "code",
      "metadata": {
        "id": "_pAUfr7M5oU-"
      },
      "source": [
        "merged_df = merged_df.drop([\"Abbreviation\", \"Full\"], axis=1)"
      ],
      "execution_count": 55,
      "outputs": []
    },
    {
      "cell_type": "code",
      "metadata": {
        "id": "K4Qqvacs68Ri",
        "colab": {
          "base_uri": "https://localhost:8080/",
          "height": 285
        },
        "outputId": "e55622e4-1d3e-404a-a7d6-e148f595f3ed"
      },
      "source": [
        "merged_df.head(3)"
      ],
      "execution_count": 51,
      "outputs": [
        {
          "output_type": "execute_result",
          "data": {
            "text/html": [
              "<div>\n",
              "<style scoped>\n",
              "    .dataframe tbody tr th:only-of-type {\n",
              "        vertical-align: middle;\n",
              "    }\n",
              "\n",
              "    .dataframe tbody tr th {\n",
              "        vertical-align: top;\n",
              "    }\n",
              "\n",
              "    .dataframe thead th {\n",
              "        text-align: right;\n",
              "    }\n",
              "</style>\n",
              "<table border=\"1\" class=\"dataframe\">\n",
              "  <thead>\n",
              "    <tr style=\"text-align: right;\">\n",
              "      <th></th>\n",
              "      <th>ID</th>\n",
              "      <th>Name</th>\n",
              "      <th>Nationality</th>\n",
              "      <th>Club</th>\n",
              "      <th>Jersey Number</th>\n",
              "      <th>Value</th>\n",
              "      <th>Wage</th>\n",
              "      <th>Age</th>\n",
              "      <th>Height</th>\n",
              "      <th>Weight</th>\n",
              "      <th>Preferred Foot</th>\n",
              "      <th>Position</th>\n",
              "      <th>Overall</th>\n",
              "      <th>Potential</th>\n",
              "      <th>Shooting</th>\n",
              "      <th>Defense</th>\n",
              "      <th>Passing</th>\n",
              "      <th>Physical</th>\n",
              "      <th>Control</th>\n",
              "      <th>Mental</th>\n",
              "      <th>GoalKeeping</th>\n",
              "    </tr>\n",
              "  </thead>\n",
              "  <tbody>\n",
              "    <tr>\n",
              "      <th>0</th>\n",
              "      <td>158023</td>\n",
              "      <td>L. Messi</td>\n",
              "      <td>Argentina</td>\n",
              "      <td>FC Barcelona</td>\n",
              "      <td>10.0</td>\n",
              "      <td>110500000.0</td>\n",
              "      <td>565000.0</td>\n",
              "      <td>31</td>\n",
              "      <td>5'7</td>\n",
              "      <td>159lbs</td>\n",
              "      <td>Left</td>\n",
              "      <td>Right Forward (RF)</td>\n",
              "      <td>94</td>\n",
              "      <td>94</td>\n",
              "      <td>86.0</td>\n",
              "      <td>41.0</td>\n",
              "      <td>87.0</td>\n",
              "      <td>80.0</td>\n",
              "      <td>96.0</td>\n",
              "      <td>95.0</td>\n",
              "      <td>11.0</td>\n",
              "    </tr>\n",
              "    <tr>\n",
              "      <th>1</th>\n",
              "      <td>175943</td>\n",
              "      <td>D. Mertens</td>\n",
              "      <td>Belgium</td>\n",
              "      <td>Napoli</td>\n",
              "      <td>14.0</td>\n",
              "      <td>45000000.0</td>\n",
              "      <td>135000.0</td>\n",
              "      <td>31</td>\n",
              "      <td>5'7</td>\n",
              "      <td>134lbs</td>\n",
              "      <td>Right</td>\n",
              "      <td>Right Forward (RF)</td>\n",
              "      <td>87</td>\n",
              "      <td>87</td>\n",
              "      <td>74.0</td>\n",
              "      <td>46.0</td>\n",
              "      <td>78.0</td>\n",
              "      <td>77.0</td>\n",
              "      <td>91.0</td>\n",
              "      <td>84.0</td>\n",
              "      <td>8.0</td>\n",
              "    </tr>\n",
              "    <tr>\n",
              "      <th>2</th>\n",
              "      <td>172114</td>\n",
              "      <td>D. Valeri</td>\n",
              "      <td>Argentina</td>\n",
              "      <td>Portland Timbers</td>\n",
              "      <td>8.0</td>\n",
              "      <td>11500000.0</td>\n",
              "      <td>12000.0</td>\n",
              "      <td>32</td>\n",
              "      <td>5'10</td>\n",
              "      <td>165lbs</td>\n",
              "      <td>Right</td>\n",
              "      <td>Right Forward (RF)</td>\n",
              "      <td>80</td>\n",
              "      <td>80</td>\n",
              "      <td>79.0</td>\n",
              "      <td>46.0</td>\n",
              "      <td>78.0</td>\n",
              "      <td>69.0</td>\n",
              "      <td>78.0</td>\n",
              "      <td>82.0</td>\n",
              "      <td>12.0</td>\n",
              "    </tr>\n",
              "  </tbody>\n",
              "</table>\n",
              "</div>"
            ],
            "text/plain": [
              "       ID        Name Nationality  ... Control  Mental  GoalKeeping\n",
              "0  158023    L. Messi   Argentina  ...    96.0    95.0         11.0\n",
              "1  175943  D. Mertens     Belgium  ...    91.0    84.0          8.0\n",
              "2  172114   D. Valeri   Argentina  ...    78.0    82.0         12.0\n",
              "\n",
              "[3 rows x 21 columns]"
            ]
          },
          "metadata": {
            "tags": []
          },
          "execution_count": 51
        }
      ]
    },
    {
      "cell_type": "code",
      "metadata": {
        "id": "YII9iv1PG3Ux"
      },
      "source": [
        "assert len(merged_df.columns) == 21, \"Error\""
      ],
      "execution_count": 56,
      "outputs": []
    },
    {
      "cell_type": "markdown",
      "metadata": {
        "id": "zAUeeSXvxU6g"
      },
      "source": [
        "Asignemos al dataframe original ```fifa_df``` el nuevo dataframe con el tratamiento de datos ya realizado:"
      ]
    },
    {
      "cell_type": "code",
      "metadata": {
        "id": "mFz5iU9SxScb",
        "colab": {
          "base_uri": "https://localhost:8080/",
          "height": 417
        },
        "outputId": "8dffd80d-ae72-4920-b154-d777633ac361"
      },
      "source": [
        "fifa_df = merged_df\n",
        "fifa_df.head()"
      ],
      "execution_count": 57,
      "outputs": [
        {
          "output_type": "execute_result",
          "data": {
            "text/html": [
              "<div>\n",
              "<style scoped>\n",
              "    .dataframe tbody tr th:only-of-type {\n",
              "        vertical-align: middle;\n",
              "    }\n",
              "\n",
              "    .dataframe tbody tr th {\n",
              "        vertical-align: top;\n",
              "    }\n",
              "\n",
              "    .dataframe thead th {\n",
              "        text-align: right;\n",
              "    }\n",
              "</style>\n",
              "<table border=\"1\" class=\"dataframe\">\n",
              "  <thead>\n",
              "    <tr style=\"text-align: right;\">\n",
              "      <th></th>\n",
              "      <th>ID</th>\n",
              "      <th>Name</th>\n",
              "      <th>Nationality</th>\n",
              "      <th>Club</th>\n",
              "      <th>Jersey Number</th>\n",
              "      <th>Value</th>\n",
              "      <th>Wage</th>\n",
              "      <th>Age</th>\n",
              "      <th>Height</th>\n",
              "      <th>Weight</th>\n",
              "      <th>Preferred Foot</th>\n",
              "      <th>Position</th>\n",
              "      <th>Overall</th>\n",
              "      <th>Potential</th>\n",
              "      <th>Shooting</th>\n",
              "      <th>Defense</th>\n",
              "      <th>Passing</th>\n",
              "      <th>Physical</th>\n",
              "      <th>Control</th>\n",
              "      <th>Mental</th>\n",
              "      <th>GoalKeeping</th>\n",
              "    </tr>\n",
              "  </thead>\n",
              "  <tbody>\n",
              "    <tr>\n",
              "      <th>0</th>\n",
              "      <td>158023</td>\n",
              "      <td>L. Messi</td>\n",
              "      <td>Argentina</td>\n",
              "      <td>FC Barcelona</td>\n",
              "      <td>10.0</td>\n",
              "      <td>110500000.0</td>\n",
              "      <td>565000.0</td>\n",
              "      <td>31</td>\n",
              "      <td>5'7</td>\n",
              "      <td>159lbs</td>\n",
              "      <td>Left</td>\n",
              "      <td>Right Forward (RF)</td>\n",
              "      <td>94</td>\n",
              "      <td>94</td>\n",
              "      <td>86.0</td>\n",
              "      <td>41.0</td>\n",
              "      <td>87.0</td>\n",
              "      <td>80.0</td>\n",
              "      <td>96.0</td>\n",
              "      <td>95.0</td>\n",
              "      <td>11.0</td>\n",
              "    </tr>\n",
              "    <tr>\n",
              "      <th>1</th>\n",
              "      <td>175943</td>\n",
              "      <td>D. Mertens</td>\n",
              "      <td>Belgium</td>\n",
              "      <td>Napoli</td>\n",
              "      <td>14.0</td>\n",
              "      <td>45000000.0</td>\n",
              "      <td>135000.0</td>\n",
              "      <td>31</td>\n",
              "      <td>5'7</td>\n",
              "      <td>134lbs</td>\n",
              "      <td>Right</td>\n",
              "      <td>Right Forward (RF)</td>\n",
              "      <td>87</td>\n",
              "      <td>87</td>\n",
              "      <td>74.0</td>\n",
              "      <td>46.0</td>\n",
              "      <td>78.0</td>\n",
              "      <td>77.0</td>\n",
              "      <td>91.0</td>\n",
              "      <td>84.0</td>\n",
              "      <td>8.0</td>\n",
              "    </tr>\n",
              "    <tr>\n",
              "      <th>2</th>\n",
              "      <td>172114</td>\n",
              "      <td>D. Valeri</td>\n",
              "      <td>Argentina</td>\n",
              "      <td>Portland Timbers</td>\n",
              "      <td>8.0</td>\n",
              "      <td>11500000.0</td>\n",
              "      <td>12000.0</td>\n",
              "      <td>32</td>\n",
              "      <td>5'10</td>\n",
              "      <td>165lbs</td>\n",
              "      <td>Right</td>\n",
              "      <td>Right Forward (RF)</td>\n",
              "      <td>80</td>\n",
              "      <td>80</td>\n",
              "      <td>79.0</td>\n",
              "      <td>46.0</td>\n",
              "      <td>78.0</td>\n",
              "      <td>69.0</td>\n",
              "      <td>78.0</td>\n",
              "      <td>82.0</td>\n",
              "      <td>12.0</td>\n",
              "    </tr>\n",
              "    <tr>\n",
              "      <th>3</th>\n",
              "      <td>150516</td>\n",
              "      <td>L. Podolski</td>\n",
              "      <td>Germany</td>\n",
              "      <td>Vissel Kobe</td>\n",
              "      <td>10.0</td>\n",
              "      <td>6500000.0</td>\n",
              "      <td>11000.0</td>\n",
              "      <td>33</td>\n",
              "      <td>6'0</td>\n",
              "      <td>183lbs</td>\n",
              "      <td>Left</td>\n",
              "      <td>Right Forward (RF)</td>\n",
              "      <td>78</td>\n",
              "      <td>78</td>\n",
              "      <td>80.0</td>\n",
              "      <td>49.0</td>\n",
              "      <td>73.0</td>\n",
              "      <td>73.0</td>\n",
              "      <td>75.0</td>\n",
              "      <td>78.0</td>\n",
              "      <td>11.0</td>\n",
              "    </tr>\n",
              "    <tr>\n",
              "      <th>4</th>\n",
              "      <td>201313</td>\n",
              "      <td>C. Ciano</td>\n",
              "      <td>Italy</td>\n",
              "      <td>Frosinone</td>\n",
              "      <td>28.0</td>\n",
              "      <td>6500000.0</td>\n",
              "      <td>17000.0</td>\n",
              "      <td>28</td>\n",
              "      <td>5'9</td>\n",
              "      <td>161lbs</td>\n",
              "      <td>Left</td>\n",
              "      <td>Right Forward (RF)</td>\n",
              "      <td>75</td>\n",
              "      <td>75</td>\n",
              "      <td>70.0</td>\n",
              "      <td>32.0</td>\n",
              "      <td>72.0</td>\n",
              "      <td>72.0</td>\n",
              "      <td>77.0</td>\n",
              "      <td>72.0</td>\n",
              "      <td>9.0</td>\n",
              "    </tr>\n",
              "  </tbody>\n",
              "</table>\n",
              "</div>"
            ],
            "text/plain": [
              "       ID         Name Nationality  ... Control  Mental  GoalKeeping\n",
              "0  158023     L. Messi   Argentina  ...    96.0    95.0         11.0\n",
              "1  175943   D. Mertens     Belgium  ...    91.0    84.0          8.0\n",
              "2  172114    D. Valeri   Argentina  ...    78.0    82.0         12.0\n",
              "3  150516  L. Podolski     Germany  ...    75.0    78.0         11.0\n",
              "4  201313     C. Ciano       Italy  ...    77.0    72.0          9.0\n",
              "\n",
              "[5 rows x 21 columns]"
            ]
          },
          "metadata": {
            "tags": []
          },
          "execution_count": 57
        }
      ]
    },
    {
      "cell_type": "markdown",
      "metadata": {
        "id": "11welP4cjgmM"
      },
      "source": [
        "## Análisis exploratorio\n",
        "\n",
        "En esta sección, utilizarás distintos métodos de los dataframes de pandas para generar un análisis exploratorio. En un análisis exploratorio, se busca explorar, resumir y entender los datos."
      ]
    },
    {
      "cell_type": "markdown",
      "metadata": {
        "id": "KDx_7ASLlnL7"
      },
      "source": [
        "### Jugadores con el mayor valor comercial y jugadores mejores pagados"
      ]
    },
    {
      "cell_type": "markdown",
      "metadata": {
        "id": "Ms3vFmAo15eW"
      },
      "source": [
        "Muestra el **Top 3** de jugadores con mayor valor (```Value```) en el mercado."
      ]
    },
    {
      "cell_type": "code",
      "metadata": {
        "id": "XJAgwUc2J9y8",
        "colab": {
          "base_uri": "https://localhost:8080/",
          "height": 417
        },
        "outputId": "a316552d-e4e1-4757-9716-f58a7c83982d"
      },
      "source": [
        "fifa_df.sort_values(\"Value\",ascending=False).head(5)"
      ],
      "execution_count": 59,
      "outputs": [
        {
          "output_type": "execute_result",
          "data": {
            "text/html": [
              "<div>\n",
              "<style scoped>\n",
              "    .dataframe tbody tr th:only-of-type {\n",
              "        vertical-align: middle;\n",
              "    }\n",
              "\n",
              "    .dataframe tbody tr th {\n",
              "        vertical-align: top;\n",
              "    }\n",
              "\n",
              "    .dataframe thead th {\n",
              "        text-align: right;\n",
              "    }\n",
              "</style>\n",
              "<table border=\"1\" class=\"dataframe\">\n",
              "  <thead>\n",
              "    <tr style=\"text-align: right;\">\n",
              "      <th></th>\n",
              "      <th>ID</th>\n",
              "      <th>Name</th>\n",
              "      <th>Nationality</th>\n",
              "      <th>Club</th>\n",
              "      <th>Jersey Number</th>\n",
              "      <th>Value</th>\n",
              "      <th>Wage</th>\n",
              "      <th>Age</th>\n",
              "      <th>Height</th>\n",
              "      <th>Weight</th>\n",
              "      <th>Preferred Foot</th>\n",
              "      <th>Position</th>\n",
              "      <th>Overall</th>\n",
              "      <th>Potential</th>\n",
              "      <th>Shooting</th>\n",
              "      <th>Defense</th>\n",
              "      <th>Passing</th>\n",
              "      <th>Physical</th>\n",
              "      <th>Control</th>\n",
              "      <th>Mental</th>\n",
              "      <th>GoalKeeping</th>\n",
              "    </tr>\n",
              "  </thead>\n",
              "  <tbody>\n",
              "    <tr>\n",
              "      <th>2146</th>\n",
              "      <td>190871</td>\n",
              "      <td>Neymar Jr</td>\n",
              "      <td>Brazil</td>\n",
              "      <td>Paris Saint-Germain</td>\n",
              "      <td>10.0</td>\n",
              "      <td>118500000.0</td>\n",
              "      <td>290000.0</td>\n",
              "      <td>26</td>\n",
              "      <td>5'9</td>\n",
              "      <td>150lbs</td>\n",
              "      <td>Right</td>\n",
              "      <td>Left Wing (LW)</td>\n",
              "      <td>92</td>\n",
              "      <td>93</td>\n",
              "      <td>81.0</td>\n",
              "      <td>42.0</td>\n",
              "      <td>80.0</td>\n",
              "      <td>79.0</td>\n",
              "      <td>92.0</td>\n",
              "      <td>92.0</td>\n",
              "      <td>12.0</td>\n",
              "    </tr>\n",
              "    <tr>\n",
              "      <th>0</th>\n",
              "      <td>158023</td>\n",
              "      <td>L. Messi</td>\n",
              "      <td>Argentina</td>\n",
              "      <td>FC Barcelona</td>\n",
              "      <td>10.0</td>\n",
              "      <td>110500000.0</td>\n",
              "      <td>565000.0</td>\n",
              "      <td>31</td>\n",
              "      <td>5'7</td>\n",
              "      <td>159lbs</td>\n",
              "      <td>Left</td>\n",
              "      <td>Right Forward (RF)</td>\n",
              "      <td>94</td>\n",
              "      <td>94</td>\n",
              "      <td>86.0</td>\n",
              "      <td>41.0</td>\n",
              "      <td>87.0</td>\n",
              "      <td>80.0</td>\n",
              "      <td>96.0</td>\n",
              "      <td>95.0</td>\n",
              "      <td>11.0</td>\n",
              "    </tr>\n",
              "    <tr>\n",
              "      <th>4512</th>\n",
              "      <td>192985</td>\n",
              "      <td>K. De Bruyne</td>\n",
              "      <td>Belgium</td>\n",
              "      <td>Manchester City</td>\n",
              "      <td>7.0</td>\n",
              "      <td>102000000.0</td>\n",
              "      <td>355000.0</td>\n",
              "      <td>27</td>\n",
              "      <td>5'11</td>\n",
              "      <td>154lbs</td>\n",
              "      <td>Right</td>\n",
              "      <td>Right Center Midfield (RCM)</td>\n",
              "      <td>91</td>\n",
              "      <td>92</td>\n",
              "      <td>81.0</td>\n",
              "      <td>65.0</td>\n",
              "      <td>92.0</td>\n",
              "      <td>77.0</td>\n",
              "      <td>85.0</td>\n",
              "      <td>91.0</td>\n",
              "      <td>11.0</td>\n",
              "    </tr>\n",
              "    <tr>\n",
              "      <th>4899</th>\n",
              "      <td>183277</td>\n",
              "      <td>E. Hazard</td>\n",
              "      <td>Belgium</td>\n",
              "      <td>Chelsea</td>\n",
              "      <td>10.0</td>\n",
              "      <td>93000000.0</td>\n",
              "      <td>340000.0</td>\n",
              "      <td>27</td>\n",
              "      <td>5'8</td>\n",
              "      <td>163lbs</td>\n",
              "      <td>Right</td>\n",
              "      <td>Left Forward (LF)</td>\n",
              "      <td>91</td>\n",
              "      <td>91</td>\n",
              "      <td>79.0</td>\n",
              "      <td>42.0</td>\n",
              "      <td>84.0</td>\n",
              "      <td>82.0</td>\n",
              "      <td>94.0</td>\n",
              "      <td>90.0</td>\n",
              "      <td>9.0</td>\n",
              "    </tr>\n",
              "    <tr>\n",
              "      <th>4900</th>\n",
              "      <td>211110</td>\n",
              "      <td>P. Dybala</td>\n",
              "      <td>Argentina</td>\n",
              "      <td>Juventus</td>\n",
              "      <td>21.0</td>\n",
              "      <td>89000000.0</td>\n",
              "      <td>205000.0</td>\n",
              "      <td>24</td>\n",
              "      <td>5'10</td>\n",
              "      <td>165lbs</td>\n",
              "      <td>Left</td>\n",
              "      <td>Left Forward (LF)</td>\n",
              "      <td>89</td>\n",
              "      <td>94</td>\n",
              "      <td>84.0</td>\n",
              "      <td>36.0</td>\n",
              "      <td>81.0</td>\n",
              "      <td>81.0</td>\n",
              "      <td>90.0</td>\n",
              "      <td>86.0</td>\n",
              "      <td>5.0</td>\n",
              "    </tr>\n",
              "  </tbody>\n",
              "</table>\n",
              "</div>"
            ],
            "text/plain": [
              "          ID          Name Nationality  ... Control  Mental  GoalKeeping\n",
              "2146  190871     Neymar Jr      Brazil  ...    92.0    92.0         12.0\n",
              "0     158023      L. Messi   Argentina  ...    96.0    95.0         11.0\n",
              "4512  192985  K. De Bruyne     Belgium  ...    85.0    91.0         11.0\n",
              "4899  183277     E. Hazard     Belgium  ...    94.0    90.0          9.0\n",
              "4900  211110     P. Dybala   Argentina  ...    90.0    86.0          5.0\n",
              "\n",
              "[5 rows x 21 columns]"
            ]
          },
          "metadata": {
            "tags": []
          },
          "execution_count": 59
        }
      ]
    },
    {
      "cell_type": "markdown",
      "metadata": {
        "id": "BWtWBTdz1yix"
      },
      "source": [
        "Muestra el **Top 3** de jugadores mejores pagados en el mundo (Salarios más altos, ```Wage```)."
      ]
    },
    {
      "cell_type": "code",
      "metadata": {
        "id": "1yaixbRm1lgg",
        "colab": {
          "base_uri": "https://localhost:8080/",
          "height": 417
        },
        "outputId": "40deb034-ddb2-412f-b6d8-6e3dedfe6ed4"
      },
      "source": [
        "fifa_df.sort_values(\"Wage\",ascending=False).head(5)"
      ],
      "execution_count": 60,
      "outputs": [
        {
          "output_type": "execute_result",
          "data": {
            "text/html": [
              "<div>\n",
              "<style scoped>\n",
              "    .dataframe tbody tr th:only-of-type {\n",
              "        vertical-align: middle;\n",
              "    }\n",
              "\n",
              "    .dataframe tbody tr th {\n",
              "        vertical-align: top;\n",
              "    }\n",
              "\n",
              "    .dataframe thead th {\n",
              "        text-align: right;\n",
              "    }\n",
              "</style>\n",
              "<table border=\"1\" class=\"dataframe\">\n",
              "  <thead>\n",
              "    <tr style=\"text-align: right;\">\n",
              "      <th></th>\n",
              "      <th>ID</th>\n",
              "      <th>Name</th>\n",
              "      <th>Nationality</th>\n",
              "      <th>Club</th>\n",
              "      <th>Jersey Number</th>\n",
              "      <th>Value</th>\n",
              "      <th>Wage</th>\n",
              "      <th>Age</th>\n",
              "      <th>Height</th>\n",
              "      <th>Weight</th>\n",
              "      <th>Preferred Foot</th>\n",
              "      <th>Position</th>\n",
              "      <th>Overall</th>\n",
              "      <th>Potential</th>\n",
              "      <th>Shooting</th>\n",
              "      <th>Defense</th>\n",
              "      <th>Passing</th>\n",
              "      <th>Physical</th>\n",
              "      <th>Control</th>\n",
              "      <th>Mental</th>\n",
              "      <th>GoalKeeping</th>\n",
              "    </tr>\n",
              "  </thead>\n",
              "  <tbody>\n",
              "    <tr>\n",
              "      <th>0</th>\n",
              "      <td>158023</td>\n",
              "      <td>L. Messi</td>\n",
              "      <td>Argentina</td>\n",
              "      <td>FC Barcelona</td>\n",
              "      <td>10.0</td>\n",
              "      <td>110500000.0</td>\n",
              "      <td>565000.0</td>\n",
              "      <td>31</td>\n",
              "      <td>5'7</td>\n",
              "      <td>159lbs</td>\n",
              "      <td>Left</td>\n",
              "      <td>Right Forward (RF)</td>\n",
              "      <td>94</td>\n",
              "      <td>94</td>\n",
              "      <td>86.0</td>\n",
              "      <td>41.0</td>\n",
              "      <td>87.0</td>\n",
              "      <td>80.0</td>\n",
              "      <td>96.0</td>\n",
              "      <td>95.0</td>\n",
              "      <td>11.0</td>\n",
              "    </tr>\n",
              "    <tr>\n",
              "      <th>4914</th>\n",
              "      <td>176580</td>\n",
              "      <td>L. Suárez</td>\n",
              "      <td>Uruguay</td>\n",
              "      <td>FC Barcelona</td>\n",
              "      <td>9.0</td>\n",
              "      <td>80000000.0</td>\n",
              "      <td>455000.0</td>\n",
              "      <td>31</td>\n",
              "      <td>6'0</td>\n",
              "      <td>190lbs</td>\n",
              "      <td>Right</td>\n",
              "      <td>Right Side (RS)</td>\n",
              "      <td>91</td>\n",
              "      <td>91</td>\n",
              "      <td>86.0</td>\n",
              "      <td>56.0</td>\n",
              "      <td>74.0</td>\n",
              "      <td>81.0</td>\n",
              "      <td>87.0</td>\n",
              "      <td>87.0</td>\n",
              "      <td>31.0</td>\n",
              "    </tr>\n",
              "    <tr>\n",
              "      <th>4513</th>\n",
              "      <td>177003</td>\n",
              "      <td>L. Modrić</td>\n",
              "      <td>Croatia</td>\n",
              "      <td>Real Madrid</td>\n",
              "      <td>10.0</td>\n",
              "      <td>67000000.0</td>\n",
              "      <td>420000.0</td>\n",
              "      <td>32</td>\n",
              "      <td>5'8</td>\n",
              "      <td>146lbs</td>\n",
              "      <td>Right</td>\n",
              "      <td>Right Center Midfield (RCM)</td>\n",
              "      <td>91</td>\n",
              "      <td>91</td>\n",
              "      <td>76.0</td>\n",
              "      <td>74.0</td>\n",
              "      <td>89.0</td>\n",
              "      <td>79.0</td>\n",
              "      <td>92.0</td>\n",
              "      <td>89.0</td>\n",
              "      <td>10.0</td>\n",
              "    </tr>\n",
              "    <tr>\n",
              "      <th>16</th>\n",
              "      <td>20801</td>\n",
              "      <td>Cristiano Ronaldo</td>\n",
              "      <td>Portugal</td>\n",
              "      <td>Juventus</td>\n",
              "      <td>7.0</td>\n",
              "      <td>77000000.0</td>\n",
              "      <td>405000.0</td>\n",
              "      <td>33</td>\n",
              "      <td>6'2</td>\n",
              "      <td>183lbs</td>\n",
              "      <td>Right</td>\n",
              "      <td>Striker (ST)</td>\n",
              "      <td>94</td>\n",
              "      <td>94</td>\n",
              "      <td>88.0</td>\n",
              "      <td>41.0</td>\n",
              "      <td>81.0</td>\n",
              "      <td>86.0</td>\n",
              "      <td>84.0</td>\n",
              "      <td>91.0</td>\n",
              "      <td>12.0</td>\n",
              "    </tr>\n",
              "    <tr>\n",
              "      <th>5115</th>\n",
              "      <td>155862</td>\n",
              "      <td>Sergio Ramos</td>\n",
              "      <td>Spain</td>\n",
              "      <td>Real Madrid</td>\n",
              "      <td>15.0</td>\n",
              "      <td>51000000.0</td>\n",
              "      <td>380000.0</td>\n",
              "      <td>32</td>\n",
              "      <td>6'0</td>\n",
              "      <td>181lbs</td>\n",
              "      <td>Right</td>\n",
              "      <td>Right Center Back (RCB)</td>\n",
              "      <td>91</td>\n",
              "      <td>91</td>\n",
              "      <td>72.0</td>\n",
              "      <td>84.0</td>\n",
              "      <td>74.0</td>\n",
              "      <td>79.0</td>\n",
              "      <td>71.0</td>\n",
              "      <td>77.0</td>\n",
              "      <td>9.0</td>\n",
              "    </tr>\n",
              "  </tbody>\n",
              "</table>\n",
              "</div>"
            ],
            "text/plain": [
              "          ID               Name Nationality  ... Control  Mental  GoalKeeping\n",
              "0     158023           L. Messi   Argentina  ...    96.0    95.0         11.0\n",
              "4914  176580          L. Suárez     Uruguay  ...    87.0    87.0         31.0\n",
              "4513  177003          L. Modrić     Croatia  ...    92.0    89.0         10.0\n",
              "16     20801  Cristiano Ronaldo    Portugal  ...    84.0    91.0         12.0\n",
              "5115  155862       Sergio Ramos       Spain  ...    71.0    77.0          9.0\n",
              "\n",
              "[5 rows x 21 columns]"
            ]
          },
          "metadata": {
            "tags": []
          },
          "execution_count": 60
        }
      ]
    },
    {
      "cell_type": "markdown",
      "metadata": {
        "id": "cpSEn-FJjwtT"
      },
      "source": [
        "### Potencial por alcanzar\n",
        "\n",
        "Utiliza operaciones Crea una nueva columna que  muestre el potencial por alcanzar ```Potential left``` de cada jugador en el conjunto de datos. El potencial por alcanzar puede ser calculado mediante ```Potential - Overall```."
      ]
    },
    {
      "cell_type": "code",
      "metadata": {
        "id": "1fD4LDMJj14v",
        "colab": {
          "base_uri": "https://localhost:8080/",
          "height": 382
        },
        "outputId": "5a490564-fe9e-4899-90c6-7ac269b8f2b6"
      },
      "source": [
        "fifa_df[\"Potential left\"] = fifa_df['Potential']-fifa_df['Overall']\n",
        "fifa_df.sort_values(\"Potential left\",ascending=False).head(5)"
      ],
      "execution_count": 63,
      "outputs": [
        {
          "output_type": "execute_result",
          "data": {
            "text/html": [
              "<div>\n",
              "<style scoped>\n",
              "    .dataframe tbody tr th:only-of-type {\n",
              "        vertical-align: middle;\n",
              "    }\n",
              "\n",
              "    .dataframe tbody tr th {\n",
              "        vertical-align: top;\n",
              "    }\n",
              "\n",
              "    .dataframe thead th {\n",
              "        text-align: right;\n",
              "    }\n",
              "</style>\n",
              "<table border=\"1\" class=\"dataframe\">\n",
              "  <thead>\n",
              "    <tr style=\"text-align: right;\">\n",
              "      <th></th>\n",
              "      <th>ID</th>\n",
              "      <th>Name</th>\n",
              "      <th>Nationality</th>\n",
              "      <th>Club</th>\n",
              "      <th>Jersey Number</th>\n",
              "      <th>Value</th>\n",
              "      <th>Wage</th>\n",
              "      <th>Age</th>\n",
              "      <th>Height</th>\n",
              "      <th>Weight</th>\n",
              "      <th>Preferred Foot</th>\n",
              "      <th>Position</th>\n",
              "      <th>Overall</th>\n",
              "      <th>Potential</th>\n",
              "      <th>Shooting</th>\n",
              "      <th>Defense</th>\n",
              "      <th>Passing</th>\n",
              "      <th>Physical</th>\n",
              "      <th>Control</th>\n",
              "      <th>Mental</th>\n",
              "      <th>GoalKeeping</th>\n",
              "      <th>Potential left</th>\n",
              "    </tr>\n",
              "  </thead>\n",
              "  <tbody>\n",
              "    <tr>\n",
              "      <th>16346</th>\n",
              "      <td>238758</td>\n",
              "      <td>D. Campbell</td>\n",
              "      <td>Scotland</td>\n",
              "      <td>Aberdeen</td>\n",
              "      <td>24.0</td>\n",
              "      <td>60000.0</td>\n",
              "      <td>1000.0</td>\n",
              "      <td>17</td>\n",
              "      <td>6'0</td>\n",
              "      <td>134lbs</td>\n",
              "      <td>Right</td>\n",
              "      <td>Central Midfield (CM)</td>\n",
              "      <td>50</td>\n",
              "      <td>76</td>\n",
              "      <td>46.0</td>\n",
              "      <td>35.0</td>\n",
              "      <td>49.0</td>\n",
              "      <td>59.0</td>\n",
              "      <td>64.0</td>\n",
              "      <td>45.0</td>\n",
              "      <td>12.0</td>\n",
              "      <td>26</td>\n",
              "    </tr>\n",
              "    <tr>\n",
              "      <th>1827</th>\n",
              "      <td>244592</td>\n",
              "      <td>J. von Moos</td>\n",
              "      <td>Switzerland</td>\n",
              "      <td>FC Basel 1893</td>\n",
              "      <td>18.0</td>\n",
              "      <td>280000.0</td>\n",
              "      <td>2000.0</td>\n",
              "      <td>17</td>\n",
              "      <td>5'10</td>\n",
              "      <td>157lbs</td>\n",
              "      <td>Left</td>\n",
              "      <td>Striker (ST)</td>\n",
              "      <td>58</td>\n",
              "      <td>84</td>\n",
              "      <td>50.0</td>\n",
              "      <td>26.0</td>\n",
              "      <td>35.0</td>\n",
              "      <td>71.0</td>\n",
              "      <td>61.0</td>\n",
              "      <td>46.0</td>\n",
              "      <td>12.0</td>\n",
              "      <td>26</td>\n",
              "    </tr>\n",
              "    <tr>\n",
              "      <th>16222</th>\n",
              "      <td>243353</td>\n",
              "      <td>B. Mumba</td>\n",
              "      <td>England</td>\n",
              "      <td>Sunderland</td>\n",
              "      <td>37.0</td>\n",
              "      <td>190000.0</td>\n",
              "      <td>1000.0</td>\n",
              "      <td>16</td>\n",
              "      <td>5'6</td>\n",
              "      <td>126lbs</td>\n",
              "      <td>Right</td>\n",
              "      <td>Central Midfield (CM)</td>\n",
              "      <td>55</td>\n",
              "      <td>80</td>\n",
              "      <td>40.0</td>\n",
              "      <td>51.0</td>\n",
              "      <td>54.0</td>\n",
              "      <td>60.0</td>\n",
              "      <td>58.0</td>\n",
              "      <td>52.0</td>\n",
              "      <td>11.0</td>\n",
              "      <td>25</td>\n",
              "    </tr>\n",
              "    <tr>\n",
              "      <th>4189</th>\n",
              "      <td>246241</td>\n",
              "      <td>Y. Lenze</td>\n",
              "      <td>Germany</td>\n",
              "      <td>FC Schalke 04</td>\n",
              "      <td>30.0</td>\n",
              "      <td>190000.0</td>\n",
              "      <td>1000.0</td>\n",
              "      <td>17</td>\n",
              "      <td>6'1</td>\n",
              "      <td>165lbs</td>\n",
              "      <td>Left</td>\n",
              "      <td>Goalkeeper (GK)</td>\n",
              "      <td>57</td>\n",
              "      <td>82</td>\n",
              "      <td>13.0</td>\n",
              "      <td>12.0</td>\n",
              "      <td>19.0</td>\n",
              "      <td>48.0</td>\n",
              "      <td>25.0</td>\n",
              "      <td>41.0</td>\n",
              "      <td>57.0</td>\n",
              "      <td>25</td>\n",
              "    </tr>\n",
              "    <tr>\n",
              "      <th>16296</th>\n",
              "      <td>246100</td>\n",
              "      <td>K. Askildsen</td>\n",
              "      <td>Norway</td>\n",
              "      <td>Stabæk Fotball</td>\n",
              "      <td>14.0</td>\n",
              "      <td>110000.0</td>\n",
              "      <td>1000.0</td>\n",
              "      <td>17</td>\n",
              "      <td>6'1</td>\n",
              "      <td>154lbs</td>\n",
              "      <td>Right</td>\n",
              "      <td>Central Midfield (CM)</td>\n",
              "      <td>52</td>\n",
              "      <td>77</td>\n",
              "      <td>40.0</td>\n",
              "      <td>46.0</td>\n",
              "      <td>48.0</td>\n",
              "      <td>57.0</td>\n",
              "      <td>57.0</td>\n",
              "      <td>53.0</td>\n",
              "      <td>9.0</td>\n",
              "      <td>25</td>\n",
              "    </tr>\n",
              "  </tbody>\n",
              "</table>\n",
              "</div>"
            ],
            "text/plain": [
              "           ID          Name  Nationality  ... Mental  GoalKeeping  Potential left\n",
              "16346  238758   D. Campbell     Scotland  ...   45.0         12.0              26\n",
              "1827   244592   J. von Moos  Switzerland  ...   46.0         12.0              26\n",
              "16222  243353      B. Mumba      England  ...   52.0         11.0              25\n",
              "4189   246241      Y. Lenze      Germany  ...   41.0         57.0              25\n",
              "16296  246100  K. Askildsen       Norway  ...   53.0          9.0              25\n",
              "\n",
              "[5 rows x 22 columns]"
            ]
          },
          "metadata": {
            "tags": []
          },
          "execution_count": 63
        }
      ]
    },
    {
      "cell_type": "markdown",
      "metadata": {
        "id": "NwYgtvlTmKnq"
      },
      "source": [
        "### Jóvenes promesa\n",
        "\n",
        "Utiliza las funciones de Pandas para encontrar el **top 5** de jugadores \"promesa\" menores de 22 años. Ordena ascendentemente el dataframe según el potencial (```Potential```), potencial por alcanzar (```Potential left```) y su nivel (```Overall ```) actual."
      ]
    },
    {
      "cell_type": "code",
      "metadata": {
        "id": "5IFX49Jern6K",
        "colab": {
          "base_uri": "https://localhost:8080/",
          "height": 382
        },
        "outputId": "44e50bd1-62ac-42ab-fae7-a6de8c3283db"
      },
      "source": [
        "#fifa_df[fifa_df['Age']<=22].sort_values(by=['Potential','Potential left','Overall'],ascending=True).head(5)\r\n",
        "fifa_df[fifa_df['Age']<=22].sort_values(by=['Overall','Potential','Potential left'],ascending=False).head(5)"
      ],
      "execution_count": 69,
      "outputs": [
        {
          "output_type": "execute_result",
          "data": {
            "text/html": [
              "<div>\n",
              "<style scoped>\n",
              "    .dataframe tbody tr th:only-of-type {\n",
              "        vertical-align: middle;\n",
              "    }\n",
              "\n",
              "    .dataframe tbody tr th {\n",
              "        vertical-align: top;\n",
              "    }\n",
              "\n",
              "    .dataframe thead th {\n",
              "        text-align: right;\n",
              "    }\n",
              "</style>\n",
              "<table border=\"1\" class=\"dataframe\">\n",
              "  <thead>\n",
              "    <tr style=\"text-align: right;\">\n",
              "      <th></th>\n",
              "      <th>ID</th>\n",
              "      <th>Name</th>\n",
              "      <th>Nationality</th>\n",
              "      <th>Club</th>\n",
              "      <th>Jersey Number</th>\n",
              "      <th>Value</th>\n",
              "      <th>Wage</th>\n",
              "      <th>Age</th>\n",
              "      <th>Height</th>\n",
              "      <th>Weight</th>\n",
              "      <th>Preferred Foot</th>\n",
              "      <th>Position</th>\n",
              "      <th>Overall</th>\n",
              "      <th>Potential</th>\n",
              "      <th>Shooting</th>\n",
              "      <th>Defense</th>\n",
              "      <th>Passing</th>\n",
              "      <th>Physical</th>\n",
              "      <th>Control</th>\n",
              "      <th>Mental</th>\n",
              "      <th>GoalKeeping</th>\n",
              "      <th>Potential left</th>\n",
              "    </tr>\n",
              "  </thead>\n",
              "  <tbody>\n",
              "    <tr>\n",
              "      <th>10876</th>\n",
              "      <td>231747</td>\n",
              "      <td>K. Mbappé</td>\n",
              "      <td>France</td>\n",
              "      <td>Paris Saint-Germain</td>\n",
              "      <td>10.0</td>\n",
              "      <td>81000000.0</td>\n",
              "      <td>100000.0</td>\n",
              "      <td>19</td>\n",
              "      <td>5'10</td>\n",
              "      <td>161lbs</td>\n",
              "      <td>Right</td>\n",
              "      <td>Right Midfielder (RM)</td>\n",
              "      <td>88</td>\n",
              "      <td>95</td>\n",
              "      <td>76.0</td>\n",
              "      <td>45.0</td>\n",
              "      <td>77.0</td>\n",
              "      <td>85.0</td>\n",
              "      <td>88.0</td>\n",
              "      <td>85.0</td>\n",
              "      <td>8.0</td>\n",
              "      <td>7</td>\n",
              "    </tr>\n",
              "    <tr>\n",
              "      <th>2150</th>\n",
              "      <td>222492</td>\n",
              "      <td>L. Sané</td>\n",
              "      <td>Germany</td>\n",
              "      <td>Manchester City</td>\n",
              "      <td>19.0</td>\n",
              "      <td>61000000.0</td>\n",
              "      <td>195000.0</td>\n",
              "      <td>22</td>\n",
              "      <td>6'0</td>\n",
              "      <td>165lbs</td>\n",
              "      <td>Left</td>\n",
              "      <td>Left Wing (LW)</td>\n",
              "      <td>86</td>\n",
              "      <td>92</td>\n",
              "      <td>78.0</td>\n",
              "      <td>44.0</td>\n",
              "      <td>75.0</td>\n",
              "      <td>82.0</td>\n",
              "      <td>85.0</td>\n",
              "      <td>80.0</td>\n",
              "      <td>10.0</td>\n",
              "      <td>6</td>\n",
              "    </tr>\n",
              "    <tr>\n",
              "      <th>14650</th>\n",
              "      <td>220834</td>\n",
              "      <td>Marco Asensio</td>\n",
              "      <td>Spain</td>\n",
              "      <td>Real Madrid</td>\n",
              "      <td>10.0</td>\n",
              "      <td>54000000.0</td>\n",
              "      <td>215000.0</td>\n",
              "      <td>22</td>\n",
              "      <td>6'0</td>\n",
              "      <td>168lbs</td>\n",
              "      <td>Left</td>\n",
              "      <td>Right Wing (RW)</td>\n",
              "      <td>85</td>\n",
              "      <td>92</td>\n",
              "      <td>76.0</td>\n",
              "      <td>50.0</td>\n",
              "      <td>82.0</td>\n",
              "      <td>74.0</td>\n",
              "      <td>82.0</td>\n",
              "      <td>83.0</td>\n",
              "      <td>10.0</td>\n",
              "      <td>7</td>\n",
              "    </tr>\n",
              "    <tr>\n",
              "      <th>2151</th>\n",
              "      <td>211300</td>\n",
              "      <td>A. Martial</td>\n",
              "      <td>France</td>\n",
              "      <td>Manchester United</td>\n",
              "      <td>11.0</td>\n",
              "      <td>42500000.0</td>\n",
              "      <td>165000.0</td>\n",
              "      <td>22</td>\n",
              "      <td>6'0</td>\n",
              "      <td>168lbs</td>\n",
              "      <td>Right</td>\n",
              "      <td>Left Wing (LW)</td>\n",
              "      <td>84</td>\n",
              "      <td>90</td>\n",
              "      <td>76.0</td>\n",
              "      <td>48.0</td>\n",
              "      <td>71.0</td>\n",
              "      <td>81.0</td>\n",
              "      <td>85.0</td>\n",
              "      <td>78.0</td>\n",
              "      <td>10.0</td>\n",
              "      <td>6</td>\n",
              "    </tr>\n",
              "    <tr>\n",
              "      <th>5772</th>\n",
              "      <td>211117</td>\n",
              "      <td>D. Alli</td>\n",
              "      <td>England</td>\n",
              "      <td>Tottenham Hotspur</td>\n",
              "      <td>20.0</td>\n",
              "      <td>42500000.0</td>\n",
              "      <td>115000.0</td>\n",
              "      <td>22</td>\n",
              "      <td>6'2</td>\n",
              "      <td>176lbs</td>\n",
              "      <td>Right</td>\n",
              "      <td>Left Center Midfield (LCM)</td>\n",
              "      <td>84</td>\n",
              "      <td>90</td>\n",
              "      <td>77.0</td>\n",
              "      <td>73.0</td>\n",
              "      <td>78.0</td>\n",
              "      <td>74.0</td>\n",
              "      <td>77.0</td>\n",
              "      <td>85.0</td>\n",
              "      <td>8.0</td>\n",
              "      <td>6</td>\n",
              "    </tr>\n",
              "  </tbody>\n",
              "</table>\n",
              "</div>"
            ],
            "text/plain": [
              "           ID           Name Nationality  ... Mental  GoalKeeping  Potential left\n",
              "10876  231747      K. Mbappé      France  ...   85.0          8.0               7\n",
              "2150   222492        L. Sané     Germany  ...   80.0         10.0               6\n",
              "14650  220834  Marco Asensio       Spain  ...   83.0         10.0               7\n",
              "2151   211300     A. Martial      France  ...   78.0         10.0               6\n",
              "5772   211117        D. Alli     England  ...   85.0          8.0               6\n",
              "\n",
              "[5 rows x 22 columns]"
            ]
          },
          "metadata": {
            "tags": []
          },
          "execution_count": 69
        }
      ]
    },
    {
      "cell_type": "markdown",
      "metadata": {
        "id": "vrWYwyCwKfV2"
      },
      "source": [
        "### Mejor defensa en el mundo\n",
        "\n",
        "Encuentra al jugador con el mayor puntaje en la columna ```Defense```:\n",
        "\n",
        "*Tip: utiliza el método ```idxmax``` para encontrar la fila donde se encuentra el mejor defensa. Después usa el índice para acceder a los datos de la fila.*"
      ]
    },
    {
      "cell_type": "code",
      "metadata": {
        "id": "ZYv8MVn4Kfxg"
      },
      "source": [
        "idx = #<completa>\n",
        "fifa_df[[\"Name\", \"Club\", \"Defense\", \"Position\"]].# <completa>"
      ],
      "execution_count": null,
      "outputs": []
    },
    {
      "cell_type": "markdown",
      "metadata": {
        "id": "kgertLU4k6d1"
      },
      "source": [
        "### Porcentaje pie preferido\n",
        "\n",
        "Calcula el porcentaje mundial de jugadores que prefieren utilizar su pierna derecha para controlar el balón y el porcentaje que prefiere utilizar la pierna izquierda.\n",
        "\n",
        "*Tip: El método ```value_counts()``` de objetos Series podría resultarte particularmente útil para esta tarea.*"
      ]
    },
    {
      "cell_type": "code",
      "metadata": {
        "id": "sfV8mP74mIv6"
      },
      "source": [
        "# <completa>"
      ],
      "execution_count": null,
      "outputs": []
    },
    {
      "cell_type": "markdown",
      "metadata": {
        "id": "Bd0Gcj0YkitL"
      },
      "source": [
        "### Equipos con mayor talento promedio\n",
        "\n",
        "Utiliza funciones de agregación y de agrupamiento para obtener a los equipos con el mejor promedio de nivel (```Overall```) entre sus jugadores."
      ]
    },
    {
      "cell_type": "code",
      "metadata": {
        "id": "R2m3dzbemJSc"
      },
      "source": [
        "fifa_df.# <completa>"
      ],
      "execution_count": null,
      "outputs": []
    },
    {
      "cell_type": "markdown",
      "metadata": {
        "id": "sGpOyoqskqAX"
      },
      "source": [
        "### Equipos con más costosos (valor comercial)\n",
        "\n",
        "Utiliza funciones de agregación y agrupamiento para encontrar el valor total de de cada club, esto es, la suma de los valores individuales de los jugadores de los Club.\n",
        "\n",
        "Ordena de manera descendente para mostrar los clubs más costosos del mundo."
      ]
    },
    {
      "cell_type": "code",
      "metadata": {
        "id": "bncX7I0jmJ0K"
      },
      "source": [
        "fifa_df# <completa>"
      ],
      "execution_count": null,
      "outputs": []
    },
    {
      "cell_type": "markdown",
      "metadata": {
        "id": "7AthXgs1l8hn"
      },
      "source": [
        "### ¿Qué equipos tienen más mexicanos?\n",
        "\n",
        "Muestra un top 5 de equipos con más jugadores mexicanos en el mundo."
      ]
    },
    {
      "cell_type": "markdown",
      "metadata": {
        "id": "bcyrdPV0p6_0"
      },
      "source": [
        "Primero, crea un dataframe que contiene unicamente jugadores mexicanos:\n",
        "\n",
        "*Tip: Filtra el dataframe usando ```Nationality==Mexico```*."
      ]
    },
    {
      "cell_type": "code",
      "metadata": {
        "id": "3rvkuvn0rKkR"
      },
      "source": [
        "players_mx_df = # <completa>\n",
        "players_mx_df.head(3)"
      ],
      "execution_count": null,
      "outputs": []
    },
    {
      "cell_type": "markdown",
      "metadata": {
        "id": "GOeknoZwpxSQ"
      },
      "source": [
        "Agrupa por el nombre del club y cuenta:"
      ]
    },
    {
      "cell_type": "code",
      "metadata": {
        "id": "1RN0-mwMJVXI"
      },
      "source": [
        "players_mx_df.# <completa>"
      ],
      "execution_count": null,
      "outputs": []
    },
    {
      "cell_type": "markdown",
      "metadata": {
        "id": "f5Vi_hQCbyDL"
      },
      "source": [
        "## Visualización\n",
        "\n",
        "Utiliza las opciones de visualización de Pandas."
      ]
    },
    {
      "cell_type": "markdown",
      "metadata": {
        "id": "gIE5S2l6kQaL"
      },
      "source": [
        "### Histograma de las edades de los jugadores de futbol\n",
        "\n",
        "Selecciona la columna ``Age``` del dataframe ```fifa_df``` y muestra el histograma usando las opciones de visualización de Pandas:"
      ]
    },
    {
      "cell_type": "code",
      "metadata": {
        "id": "6zlGLD6Yb8XQ"
      },
      "source": [
        "# <rellena>.plot.hist(bins=10)"
      ],
      "execution_count": null,
      "outputs": []
    },
    {
      "cell_type": "markdown",
      "metadata": {
        "id": "K-ZhgvfWR_rT"
      },
      "source": [
        "### Gráfica de Pie (Preferred Foot)\n",
        "\n",
        "Selecciónes el conteo de valores del pie preferido (columna ```Preferred Foot```) y muestra la información mediante una gráfica de Pie:"
      ]
    },
    {
      "cell_type": "code",
      "metadata": {
        "id": "wT4II3U_R_51"
      },
      "source": [
        "# <completa>.plot.pie()"
      ],
      "execution_count": null,
      "outputs": []
    },
    {
      "cell_type": "markdown",
      "metadata": {
        "id": "88Quw6tnb88P"
      },
      "source": [
        "### Gráfica de dispersión Edad vs Potential left\n",
        "\n",
        "Ahora, utiliza una gráfica de dispersión para visualizar el comportamiento del potencial por alcanzar (```Potential left```) de acuerdo a las edades de los jugadores:\n",
        "\n",
        "*Tip: La gráfica debe mostrar la edad en un eje y el potencial por alcanzar en el otro.*"
      ]
    },
    {
      "cell_type": "code",
      "metadata": {
        "id": "A8oJxUi5kc8B"
      },
      "source": [
        "# <completa>.plot.scatter(<completa>)"
      ],
      "execution_count": null,
      "outputs": []
    },
    {
      "cell_type": "markdown",
      "metadata": {
        "id": "SSr_il5HRx5A"
      },
      "source": [
        "¿Qué otras variables o mezcla de variables sería interesante visualizar?"
      ]
    },
    {
      "cell_type": "markdown",
      "metadata": {
        "id": "8NCzkort1t2j"
      },
      "source": [
        "# Desafío Adicional\n",
        "\n",
        "En la práctica con Numpy, creaste un modelo para identificar imágenes de dígitos escritos a mano. \n",
        "\n",
        "Para este nuevo conjunto de datos, ¿podrías usar una metodología similar para encontrar la posición en el campo de un jugador solamente usando los valores de su habilidades? \n",
        "\n",
        "Skills: ```Shooting \tDefense \tPassing \tPhysical \tControl \tMental \tGoalKeeping```"
      ]
    },
    {
      "cell_type": "code",
      "metadata": {
        "id": "HTOqsnGF1u7E"
      },
      "source": [
        ""
      ],
      "execution_count": null,
      "outputs": []
    }
  ]
}